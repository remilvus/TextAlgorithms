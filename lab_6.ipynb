{
 "cells": [
  {
   "cell_type": "code",
   "execution_count": 1,
   "metadata": {},
   "outputs": [],
   "source": [
    "import math \n",
    "from suffix import SuffixTree\n",
    "from sys import getsizeof\n",
    "from kmp import kmp\n",
    "from collections import defaultdict"
   ]
  },
  {
   "cell_type": "markdown",
   "metadata": {},
   "source": [
    "# Budowa DBF"
   ]
  },
  {
   "cell_type": "markdown",
   "metadata": {},
   "source": [
    "Najbardziej wymagającą obliczeniowo częścią budowy DBF jest sortowanie. Teoretycznie najwydajniejsze jest wykorzystanie sortowania przez zliczanie, lecz w praktyce sortowanie funkcją biblioteczną `sorted` okazuje się być wydajniejsze."
   ]
  },
  {
   "cell_type": "markdown",
   "metadata": {},
   "source": [
    "## Implementacja sortowania przez zliczanie"
   ]
  },
  {
   "cell_type": "markdown",
   "metadata": {},
   "source": [
    "Ostatecznie niewykorzystana"
   ]
  },
  {
   "cell_type": "code",
   "execution_count": 2,
   "metadata": {},
   "outputs": [],
   "source": [
    "def countingSort(arr, exp1, key): \n",
    "    n = len(arr) \n",
    "    output = [0] * (n) \n",
    "    count = [0] * (10) \n",
    "    \n",
    "    for i in range(0, n): \n",
    "        index = int(key(arr[i])/exp1) \n",
    "        count[ (index)%10 ] += 1\n",
    "        \n",
    "    for i in range(1,10): \n",
    "        count[i] += count[i-1] \n",
    "    i = n-1\n",
    "    while i>=0: \n",
    "        index = int(key(arr[i])/exp1) \n",
    "        output[ count[ (index)%10 ] - 1] = arr[i] \n",
    "        count[ (index)%10 ] -= 1\n",
    "        i -= 1\n",
    "    i = 0\n",
    "    for i in range(0,len(arr)): \n",
    "        arr[i] = output[i] \n",
    "        \n",
    "def radixSort(arr, key): \n",
    "    max1 = max(map(key, arr))\n",
    "    exp = 1\n",
    "    while max1/exp > 0: \n",
    "        countingSort(arr, exp, key) \n",
    "        exp *= 10\n",
    "    return arr"
   ]
  },
  {
   "cell_type": "markdown",
   "metadata": {},
   "source": [
    "## Implementacja DBF"
   ]
  },
  {
   "cell_type": "code",
   "execution_count": 3,
   "metadata": {},
   "outputs": [],
   "source": [
    "def sort_rename(sequence, letters=False):\n",
    "    last_entry = None\n",
    "    index = 0\n",
    "    position_to_index = [None] * len(sequence)\n",
    "    first_entry = {}\n",
    "\n",
    "    enum_sequence = [(e, i) for i, e in enumerate(sequence)]\n",
    "    sorted_entries = sorted(enum_sequence)\n",
    "#     if letters: // linear sort; sorted() is faster\n",
    "#         sorted_entries = radixSort(enum_sequence, lambda x: ord(x[0]))\n",
    "#     else:\n",
    "#         enum_sequence = radixSort(enum_sequence, lambda x: x[0][1])\n",
    "#         sorted_entries = radixSort(enum_sequence,lambda x: x[0][0])\n",
    "\n",
    "    for entry in sorted_entries:\n",
    "        if(last_entry and last_entry[0] != entry[0]):\n",
    "            index += 1\n",
    "            first_entry[index] = entry[1]\n",
    "        \n",
    "        position_to_index[entry[1]] = index\n",
    "        if last_entry is None:\n",
    "            first_entry[0] = entry[1]\n",
    "        last_entry = entry\n",
    "    \n",
    "    return(position_to_index,first_entry)"
   ]
  },
  {
   "cell_type": "markdown",
   "metadata": {},
   "source": [
    "# Wyszukiwanie wzorca"
   ]
  },
  {
   "cell_type": "markdown",
   "metadata": {},
   "source": [
    "## Stała długość wzorca"
   ]
  },
  {
   "cell_type": "markdown",
   "metadata": {},
   "source": [
    "Po zbudowaniu DBF dla `pat&text` można bez problemu zmienić poszukiwany wzorzec na inny bez tworzenia całego DBF od nowa. Słownik zawierający (jako klucze) wszystkie napisy (o długości początkowego wzorca) występujące w tekście, może być użyty jako sposób na odnalezienie etykiety nowego wzorca. Takie rozwiązanie pozwoliłoby na znajdowanie przykładowego wystąpienia wzorca w stałym czasie, więc całe wyszukiwanie nadal miałoby złożoność O(n). Takie podejście wymaga jednak dodatkowej pamięci.  \n",
    "Zamiast tego, można wykorzystać wyszukiwanie połówkowe do znalezienia wzorca w tablicy `pos`. Jako, że złożoność wyszukiwania połówkowego to O(log n) to całe wyszukiwanie nadal będzie O(n).  \n",
    "Poniższa implementacja wyszukuje w tekście wzorzec o stałej długości opierając się na pojedynczym DBF. Jest ona tylko wstępem do lepszego wyszukiwania (opartego o algorytm kmr), więc wyszukuje w tablicy `pos` liniowo - wyszukiwanie połówkowe jest zaimplementowane w następnym algorytmie."
   ]
  },
  {
   "cell_type": "code",
   "execution_count": 4,
   "metadata": {},
   "outputs": [],
   "source": [
    "class dbf_search():\n",
    "    def __init__(self, pat, text):\n",
    "        assert len(pat) <= len(text), \"pattern too long\"\n",
    "        pattext = pat + \"&\" +text\n",
    "        self.k = len(pat)\n",
    "        position_to_index, first_entry = sort_rename([pattext[i:i+self.k]\n",
    "                                                      for i in range(len(pattext) - self.k+1)])\n",
    "        self.name = position_to_index\n",
    "        self.pos = first_entry\n",
    "        self.pat = pat\n",
    "        self.pattext = list(pattext)\n",
    "        \n",
    "    def find_pat(self, pat):\n",
    "        pat = list(pat)\n",
    "        for i in range(len(self.pos)):\n",
    "            idx = self.pos[i]\n",
    "            if pat == self.pattext[idx:idx+self.k]:\n",
    "                return self.name[idx]\n",
    "        return -1\n",
    "        \n",
    "    def search(self, pat):\n",
    "        assert len(pat) == self.k\n",
    "        pat_num = self.name[0]\n",
    "        if self.pat != pat:\n",
    "            pat_num = self.find_pat(pat)\n",
    "            if pat_num == -1: # pattern not in text (not in `self.pos`)\n",
    "                return []\n",
    "\n",
    "        return [i-self.k-1 for i in range(self.k + 1, len(self.pattext) - self.k + 1) if self.name[i] == pat_num]"
   ]
  },
  {
   "cell_type": "code",
   "execution_count": 5,
   "metadata": {},
   "outputs": [
    {
     "name": "stdout",
     "output_type": "stream",
     "text": [
      "[2] [0, 4]\n"
     ]
    }
   ],
   "source": [
    "s = dbf_search(\"bb\", \"aabbaa\")\n",
    "print(s.search(\"bb\"), s.search(\"aa\"))"
   ]
  },
  {
   "cell_type": "code",
   "execution_count": 8,
   "metadata": {},
   "outputs": [
    {
     "ename": "AssertionError",
     "evalue": "",
     "output_type": "error",
     "traceback": [
      "\u001b[0;31m---------------------------------------------------------------------------\u001b[0m",
      "\u001b[0;31mAssertionError\u001b[0m                            Traceback (most recent call last)",
      "\u001b[0;32m<ipython-input-8-6e191d0a17ea>\u001b[0m in \u001b[0;36m<module>\u001b[0;34m\u001b[0m\n\u001b[1;32m      1\u001b[0m \u001b[0ms\u001b[0m \u001b[0;34m=\u001b[0m \u001b[0mdbf_search\u001b[0m\u001b[0;34m(\u001b[0m\u001b[0;34m\"a\"\u001b[0m\u001b[0;34m,\u001b[0m \u001b[0;34m\"xyzxyzxy\"\u001b[0m\u001b[0;34m)\u001b[0m\u001b[0;34m\u001b[0m\u001b[0;34m\u001b[0m\u001b[0m\n\u001b[0;32m----> 2\u001b[0;31m \u001b[0mprint\u001b[0m\u001b[0;34m(\u001b[0m\u001b[0ms\u001b[0m\u001b[0;34m.\u001b[0m\u001b[0msearch\u001b[0m\u001b[0;34m(\u001b[0m\u001b[0;34m\"xyz\"\u001b[0m\u001b[0;34m)\u001b[0m\u001b[0;34m)\u001b[0m\u001b[0;34m\u001b[0m\u001b[0;34m\u001b[0m\u001b[0m\n\u001b[0m",
      "\u001b[0;32m<ipython-input-4-2c0eef986374>\u001b[0m in \u001b[0;36msearch\u001b[0;34m(self, pat)\u001b[0m\n\u001b[1;32m     20\u001b[0m \u001b[0;34m\u001b[0m\u001b[0m\n\u001b[1;32m     21\u001b[0m     \u001b[0;32mdef\u001b[0m \u001b[0msearch\u001b[0m\u001b[0;34m(\u001b[0m\u001b[0mself\u001b[0m\u001b[0;34m,\u001b[0m \u001b[0mpat\u001b[0m\u001b[0;34m)\u001b[0m\u001b[0;34m:\u001b[0m\u001b[0;34m\u001b[0m\u001b[0;34m\u001b[0m\u001b[0m\n\u001b[0;32m---> 22\u001b[0;31m         \u001b[0;32massert\u001b[0m \u001b[0mlen\u001b[0m\u001b[0;34m(\u001b[0m\u001b[0mpat\u001b[0m\u001b[0;34m)\u001b[0m \u001b[0;34m==\u001b[0m \u001b[0mself\u001b[0m\u001b[0;34m.\u001b[0m\u001b[0mk\u001b[0m\u001b[0;34m\u001b[0m\u001b[0;34m\u001b[0m\u001b[0m\n\u001b[0m\u001b[1;32m     23\u001b[0m         \u001b[0mpat_num\u001b[0m \u001b[0;34m=\u001b[0m \u001b[0mself\u001b[0m\u001b[0;34m.\u001b[0m\u001b[0mname\u001b[0m\u001b[0;34m[\u001b[0m\u001b[0;36m0\u001b[0m\u001b[0;34m]\u001b[0m\u001b[0;34m\u001b[0m\u001b[0;34m\u001b[0m\u001b[0m\n\u001b[1;32m     24\u001b[0m         \u001b[0;32mif\u001b[0m \u001b[0mself\u001b[0m\u001b[0;34m.\u001b[0m\u001b[0mpat\u001b[0m \u001b[0;34m!=\u001b[0m \u001b[0mpat\u001b[0m\u001b[0;34m:\u001b[0m\u001b[0;34m\u001b[0m\u001b[0;34m\u001b[0m\u001b[0m\n",
      "\u001b[0;31mAssertionError\u001b[0m: "
     ]
    }
   ],
   "source": [
    "s = dbf_search(\"a\", \"xyzxyzxy\")\n",
    "print(s.search(\"xyz\"))"
   ]
  },
  {
   "cell_type": "markdown",
   "metadata": {},
   "source": [
    "## Zmienna długość wzorca"
   ]
  },
  {
   "cell_type": "markdown",
   "metadata": {},
   "source": [
    "### Implementacja KMR i opartego na nim wyszukiwania wzorca"
   ]
  },
  {
   "cell_type": "markdown",
   "metadata": {},
   "source": [
    "Aby zrealizować wyszukiwanie wzorca o dowolnej długości bez konieczności przebudowywania DBF należy wykorzystać algorytm kmr - wynik jego działania pozwoli na wyszukanie dowolnego wzorca po rozłożeniu go na podwzroce, których długość jest potęgą 2. Podobnie jak w powyższej implementacji, przed wyszukiwaniem wzorca w odpowiadającej mu tablicy `name` należy znaleźć przypisaną mu etykietę. Jest to zrealizowane przez wyszukiwanie połówkowe w tablicy `pos` - zwykle będzie to oznaczało konieczność wyszukania 2 etykiet (po 1 dla każdego fragmentu rozbitego wzorca). Jeżeli wzorca nie ma w tablicy `pos` to oznacza to, że nie występuje on w tekście."
   ]
  },
  {
   "cell_type": "code",
   "execution_count": 7,
   "metadata": {},
   "outputs": [],
   "source": [
    "def kmr(text):\n",
    "    original_length = len(text)\n",
    "    factor = math.floor(math.log2(len(text)))\n",
    "    max_lenght = 2**factor\n",
    "    padding_lenght = max_lenght - 1\n",
    "    text += \"z\" * padding_lenght\n",
    "\n",
    "    position_to_index, first_entry = sort_rename(list(text), letters=True)\n",
    "    names={0: position_to_index}\n",
    "    entries={0: first_entry}\n",
    "    for i in range(1,factor+1):\n",
    "        power = 2**(i-1)\n",
    "        new_sequence = []\n",
    "        for j in range(len(text)):\n",
    "            if (j+power<len(names[i-1])):\n",
    "                new_sequence.append((names[i-1][j], names[i-1][j+power]))\n",
    "        position_to_index, first_entry = sort_rename(new_sequence)\n",
    "        names[i] = position_to_index\n",
    "        entries[i] = first_entry\n",
    "    return(names,entries)"
   ]
  },
  {
   "cell_type": "code",
   "execution_count": 8,
   "metadata": {},
   "outputs": [],
   "source": [
    "class kmr_search():\n",
    "    def __init__(self, text):\n",
    "        names, entries = kmr(text)\n",
    "        factor = math.floor(math.log2(len(text)))\n",
    "        padding_lenght = 2**factor - 1\n",
    "        text += \"z\" * padding_lenght\n",
    "\n",
    "        self.names = names\n",
    "        self.entries = entries\n",
    "        self.text = text\n",
    "        \n",
    "    def find_label(self, pattern, factor, size):\n",
    "        \"binary search for label of a pattern\"\n",
    "        left = 0\n",
    "        right = len(self.entries[factor]) - 1\n",
    "        mid = (right - left) // 2 + left\n",
    "        idx = self.entries[factor][mid]\n",
    "        while self.text[idx:idx+size] != pattern:\n",
    "            if self.text[idx:idx+size] < pattern and len(self.text[idx:idx+size]) == size:\n",
    "                left = mid\n",
    "            else:\n",
    "                right = mid\n",
    "            mid = (right - left) // 2 + left\n",
    "            if left == mid:\n",
    "                idx = self.entries[factor][left]\n",
    "                if self.text[idx:idx+size] == pattern:\n",
    "                    break\n",
    "                idx = self.entries[factor][right]\n",
    "                if self.text[idx:idx+size] == pattern:\n",
    "                    break\n",
    "                return -1\n",
    "                \n",
    "            idx = self.entries[factor][mid]\n",
    "        \n",
    "        return self.names[factor][idx]\n",
    "            \n",
    "    def search(self, pat):\n",
    "        factor = math.floor(math.log2(len(pat)))\n",
    "        pat_size = 2**factor\n",
    "        if pat_size == len(pat): # one pattern\n",
    "            label = self.find_label(pat, factor, pat_size)\n",
    "            return [i for i in range(len(self.text) - pat_size + 1) if self.names[factor][i] == label]\n",
    "        else: # two patterns \n",
    "            patterns =[pat[:pat_size], pat[-pat_size:]]\n",
    "            shift = len(pat) - pat_size\n",
    "            labels = [self.find_label(pattern, factor, pat_size) for pattern in patterns]\n",
    "         #   print(patterns, shift, labels)\n",
    "            return [i for i in range(len(self.text) - pat_size + 1) \n",
    "                    if self.names[factor][i] == labels[0] and\n",
    "                       self.names[factor][i+shift] == labels[1]]\n",
    "            "
   ]
  },
  {
   "cell_type": "code",
   "execution_count": 9,
   "metadata": {},
   "outputs": [
    {
     "name": "stdout",
     "output_type": "stream",
     "text": [
      "[2] [0, 4] [1]\n"
     ]
    }
   ],
   "source": [
    "s = kmr_search(\"aabbaa\")\n",
    "print(s.search(\"bb\"), s.search(\"aa\"), s.search(\"abb\"))"
   ]
  },
  {
   "cell_type": "markdown",
   "metadata": {},
   "source": [
    "# Porównanie czasu budowy"
   ]
  },
  {
   "cell_type": "code",
   "execution_count": 15,
   "metadata": {},
   "outputs": [],
   "source": [
    "texts = []\n",
    "for filename in [\"1997_714.txt\", \"romeo-i-julia-700.txt\", \"zad6\"]:\n",
    "    with open(filename, \"r\") as f:\n",
    "        texts.append(f.read() + \"$\")"
   ]
  },
  {
   "cell_type": "markdown",
   "metadata": {},
   "source": [
    "## Ustawa"
   ]
  },
  {
   "cell_type": "code",
   "execution_count": 16,
   "metadata": {},
   "outputs": [
    {
     "name": "stdout",
     "output_type": "stream",
     "text": [
      "2.12 s ± 62.5 ms per loop (mean ± std. dev. of 7 runs, 1 loop each)\n"
     ]
    }
   ],
   "source": [
    "%%timeit\n",
    "SuffixTree(texts[0])"
   ]
  },
  {
   "cell_type": "code",
   "execution_count": 17,
   "metadata": {},
   "outputs": [
    {
     "name": "stdout",
     "output_type": "stream",
     "text": [
      "16.9 s ± 323 ms per loop (mean ± std. dev. of 7 runs, 1 loop each)\n"
     ]
    }
   ],
   "source": [
    "%%timeit\n",
    "kmr_search(texts[0])"
   ]
  },
  {
   "cell_type": "markdown",
   "metadata": {},
   "source": [
    "## Romeo i Julia"
   ]
  },
  {
   "cell_type": "code",
   "execution_count": 18,
   "metadata": {},
   "outputs": [
    {
     "name": "stdout",
     "output_type": "stream",
     "text": [
      "88 ms ± 805 µs per loop (mean ± std. dev. of 7 runs, 10 loops each)\n"
     ]
    }
   ],
   "source": [
    "%%timeit\n",
    "SuffixTree(texts[1])"
   ]
  },
  {
   "cell_type": "code",
   "execution_count": 19,
   "metadata": {},
   "outputs": [
    {
     "name": "stdout",
     "output_type": "stream",
     "text": [
      "404 ms ± 10.7 ms per loop (mean ± std. dev. of 7 runs, 1 loop each)\n"
     ]
    }
   ],
   "source": [
    "%%timeit\n",
    "kmr_search(texts[1])"
   ]
  },
  {
   "cell_type": "markdown",
   "metadata": {},
   "source": [
    "## zad6"
   ]
  },
  {
   "cell_type": "code",
   "execution_count": 21,
   "metadata": {},
   "outputs": [
    {
     "name": "stdout",
     "output_type": "stream",
     "text": [
      "7.04 ms ± 1.82 ms per loop (mean ± std. dev. of 7 runs, 100 loops each)\n"
     ]
    }
   ],
   "source": [
    "%%timeit\n",
    "SuffixTree(texts[2])"
   ]
  },
  {
   "cell_type": "code",
   "execution_count": 20,
   "metadata": {},
   "outputs": [
    {
     "name": "stdout",
     "output_type": "stream",
     "text": [
      "16.3 ms ± 3.73 ms per loop (mean ± std. dev. of 7 runs, 100 loops each)\n"
     ]
    }
   ],
   "source": [
    "%%timeit\n",
    "kmr_search(texts[2])"
   ]
  },
  {
   "cell_type": "markdown",
   "metadata": {},
   "source": [
    "Budowa drzewa suffixów zajmuje mniej czasu niż budowanie DBF."
   ]
  },
  {
   "cell_type": "markdown",
   "metadata": {},
   "source": [
    "# Porównanie rozmiarów"
   ]
  },
  {
   "cell_type": "markdown",
   "metadata": {},
   "source": [
    "Praktycznie cała pamięć wymagana do wyszukiwania jest potrzebna do przetrzymywania tablic `name` i `pos`, więc właśnie ich wielkość zostanie zmierzona."
   ]
  },
  {
   "cell_type": "code",
   "execution_count": 22,
   "metadata": {},
   "outputs": [],
   "source": [
    "texts = []\n",
    "for filename in [\"1997_714.txt\", \"romeo-i-julia-700.txt\", \"zad6\"]:\n",
    "    with open(filename, \"r\") as f:\n",
    "        texts.append((f.read() + \"$\", filename))"
   ]
  },
  {
   "cell_type": "code",
   "execution_count": 28,
   "metadata": {},
   "outputs": [
    {
     "name": "stdout",
     "output_type": "stream",
     "text": [
      "1997_714.txt\n",
      "rozmiar tekstu:  493020 b   |   rozmiar potrzebnych struktur:  197120696 b\n",
      "jest to około 400x więcej\n",
      "------------------------------\n",
      "romeo-i-julia-700.txt\n",
      "rozmiar tekstu:  25376 b   |   rozmiar potrzebnych struktur:  9028488 b\n",
      "jest to około 356x więcej\n",
      "------------------------------\n",
      "zad6\n",
      "rozmiar tekstu:  1886 b   |   rozmiar potrzebnych struktur:  423000 b\n",
      "jest to około 224x więcej\n",
      "------------------------------\n"
     ]
    }
   ],
   "source": [
    "for text, filename in texts:\n",
    "    searcher = kmr_search(text)\n",
    "    size = sum([getsizeof(k) + getsizeof(v) for k, v in searcher.entries.items()])\n",
    "    size += sum([getsizeof(k) + getsizeof(v) for  k, v  in searcher.names.items()])\n",
    "    print(filename)\n",
    "    print(\"rozmiar tekstu: \", getsizeof(text), \"b   |   rozmiar potrzebnych struktur: \", size,\"b\")\n",
    "    print(f\"jest to około {size /getsizeof(text):.0f}x więcej\\n\" + \"-\" * 30)"
   ]
  },
  {
   "cell_type": "markdown",
   "metadata": {},
   "source": [
    "Potrzebne struktury wymagają znacznych ilości pamięci w porównaniu z wielkością tesktu."
   ]
  },
  {
   "cell_type": "markdown",
   "metadata": {},
   "source": [
    "# Porównanie czasu wyszukiwania z algorytmem kmp"
   ]
  },
  {
   "cell_type": "code",
   "execution_count": 30,
   "metadata": {},
   "outputs": [],
   "source": [
    "text = texts[0][0] # ustawa\n",
    "searcher = kmr_search(text)"
   ]
  },
  {
   "cell_type": "code",
   "execution_count": 38,
   "metadata": {},
   "outputs": [
    {
     "name": "stdout",
     "output_type": "stream",
     "text": [
      "33 ms ± 697 µs per loop (mean ± std. dev. of 7 runs, 10 loops each)\n"
     ]
    }
   ],
   "source": [
    "%%timeit\n",
    "searcher.search(\"a\")"
   ]
  },
  {
   "cell_type": "code",
   "execution_count": 39,
   "metadata": {},
   "outputs": [
    {
     "name": "stdout",
     "output_type": "stream",
     "text": [
      "42.1 ms ± 1.78 ms per loop (mean ± std. dev. of 7 runs, 10 loops each)\n"
     ]
    }
   ],
   "source": [
    "%%timeit\n",
    "kmp(text, \"a\")"
   ]
  },
  {
   "cell_type": "code",
   "execution_count": 40,
   "metadata": {},
   "outputs": [
    {
     "name": "stdout",
     "output_type": "stream",
     "text": [
      "46 ms ± 3.02 ms per loop (mean ± std. dev. of 7 runs, 10 loops each)\n"
     ]
    }
   ],
   "source": [
    "%%timeit\n",
    "searcher.search(\"przyczyny\")"
   ]
  },
  {
   "cell_type": "code",
   "execution_count": 41,
   "metadata": {},
   "outputs": [
    {
     "name": "stdout",
     "output_type": "stream",
     "text": [
      "39 ms ± 1.73 ms per loop (mean ± std. dev. of 7 runs, 10 loops each)\n"
     ]
    }
   ],
   "source": [
    "%%timeit\n",
    "kmp(text, \"przyczyny\")"
   ]
  },
  {
   "cell_type": "code",
   "execution_count": 42,
   "metadata": {},
   "outputs": [
    {
     "name": "stdout",
     "output_type": "stream",
     "text": [
      "53.8 ms ± 3.13 ms per loop (mean ± std. dev. of 7 runs, 10 loops each)\n"
     ]
    }
   ],
   "source": [
    "%%timeit\n",
    "searcher.search(\"również takich, które zostały przez sprzedawcę zapakowane lub rozważone\")"
   ]
  },
  {
   "cell_type": "code",
   "execution_count": 43,
   "metadata": {},
   "outputs": [
    {
     "name": "stdout",
     "output_type": "stream",
     "text": [
      "41.1 ms ± 4.33 ms per loop (mean ± std. dev. of 7 runs, 10 loops each)\n"
     ]
    }
   ],
   "source": [
    "%%timeit\n",
    "kmp(text, \"również takich, które zostały przez sprzedawcę zapakowane lub rozważone\")"
   ]
  },
  {
   "cell_type": "markdown",
   "metadata": {},
   "source": [
    "Czasy wyszukiwania są zbliżone - gdyby wykorzystać wyszukiwanie etykiet w tablicy `pos` przy użyciu słownika zapewnie szybsze byłoby wyszukiwanie oparte na DBF"
   ]
  },
  {
   "cell_type": "code",
   "execution_count": null,
   "metadata": {},
   "outputs": [],
   "source": []
  }
 ],
 "metadata": {
  "kernelspec": {
   "display_name": "Python 3",
   "language": "python",
   "name": "python3"
  },
  "language_info": {
   "codemirror_mode": {
    "name": "ipython",
    "version": 3
   },
   "file_extension": ".py",
   "mimetype": "text/x-python",
   "name": "python",
   "nbconvert_exporter": "python",
   "pygments_lexer": "ipython3",
   "version": "3.6.9"
  }
 },
 "nbformat": 4,
 "nbformat_minor": 4
}

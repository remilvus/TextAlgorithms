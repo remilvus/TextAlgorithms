{
 "cells": [
  {
   "cell_type": "code",
   "execution_count": 1,
   "metadata": {},
   "outputs": [],
   "source": [
    "from collections import defaultdict\n",
    "from string import ascii_letters\n",
    "import numpy as np\n",
    "import matplotlib.pyplot as plt\n",
    "from PIL import Image"
   ]
  },
  {
   "cell_type": "markdown",
   "metadata": {},
   "source": [
    "# Automat skończony"
   ]
  },
  {
   "cell_type": "code",
   "execution_count": 2,
   "metadata": {},
   "outputs": [],
   "source": [
    "class dfa():\n",
    "    def __init__(self, pattern, table=None):\n",
    "        self.state = 0\n",
    "        if table is None:\n",
    "            self.table = self.transition_table(pattern)\n",
    "        else:\n",
    "            self.table = table\n",
    "        \n",
    "    @staticmethod\n",
    "    def transition_table(pattern):\n",
    "        table = [defaultdict(lambda: 0) for l in pattern]\n",
    "        table.append(defaultdict(lambda: 0)) # for final state\n",
    "        alphabet = [letter.tostring() for letter in np.unique(list(pattern), axis=0)]\n",
    "        pattern = [p.tostring() for p in pattern]\n",
    "        for i in range(len(pattern)):\n",
    "            for letter in alphabet:\n",
    "                k = i\n",
    "                while k>=0:\n",
    "                    if np.all(pattern[0:k]== pattern[i-k:i]) and np.all(pattern[k] == letter):\n",
    "                        table[i][letter] = k + 1\n",
    "                        break\n",
    "                    k -= 1\n",
    "        for i in range(1, len(pattern)):     \n",
    "            if np.all(pattern[0:i] == pattern[-i:]): \n",
    "                table[-1][pattern[0]] = i\n",
    "\n",
    "        return table\n",
    "        \n",
    "    def next_state(self, item):\n",
    "        self.state = self.table[self.state][item.tostring()]\n",
    "        return self.state\n",
    "    \n",
    "    def reset(self):\n",
    "        self.state = 0"
   ]
  },
  {
   "cell_type": "markdown",
   "metadata": {},
   "source": [
    "# Wyszukiwanie wzorca\n",
    "przechodzenie automatem (w którym stan odpowiada dopasowaniu rzędu z wzorca) po przeszukiwanej macierzy"
   ]
  },
  {
   "cell_type": "code",
   "execution_count": 3,
   "metadata": {},
   "outputs": [],
   "source": [
    "class RectPatternDetector():\n",
    "    def __init__(self, pattern, automaton=None):\n",
    "        self.pattern = pattern\n",
    "        if automaton is None:\n",
    "            self.automaton = dfa([pattern[i,:] for i in range(pattern.shape[0])])\n",
    "        else:\n",
    "            self.automaton = automaton\n",
    "        \n",
    "    def next_state(self, item):\n",
    "        self.state = self.automaton.next_state(item)\n",
    "        return self.state\n",
    "         \n",
    "    def is_last(self, state):\n",
    "        return state == len(self.table) + 1\n",
    "    \n",
    "    def find(self, search_space):\n",
    "        h, w = search_space.shape\n",
    "        result = np.zeros((h,w))\n",
    "        ph, pw = self.pattern.shape\n",
    "        for j in range(pw-1, w):\n",
    "            for i in range(h):\n",
    "                result[i, j] = self.next_state(search_space[i, (j+1)-pw:(j+1)])\n",
    "            self.automaton.reset()\n",
    "        return result"
   ]
  },
  {
   "cell_type": "code",
   "execution_count": 4,
   "metadata": {},
   "outputs": [],
   "source": [
    "with open(\"haystack.txt\", \"r\") as file:\n",
    "    lines = file.readlines()"
   ]
  },
  {
   "cell_type": "code",
   "execution_count": 5,
   "metadata": {},
   "outputs": [
    {
     "name": "stdout",
     "output_type": "stream",
     "text": [
      "provide facilities for t h e manipulation of texts. Such systems usually process 23\n",
      "objects t h a t are quite large. For example, this book probably contains more 8\n",
      "\n",
      "objects t h a t are quite large. For example, this book probably contains more 8\n",
      "t h a n a million characters. Text algorithms occur in many areas of science and 0\n",
      "\n",
      "t h a t if inflected forms are considered. In French, inflected forms produce more 0\n",
      "t h a n 700,000 words. T h e representation of lexicons of this size makes the 0\n",
      "\n",
      "it helps to find typing errors. T h e lexicon used by spell contains approxi- 1\n",
      "mately 70,000 entries stored within less t h a n 60 kilobytes of random-access 41\n",
      "\n"
     ]
    }
   ],
   "source": [
    "# simple search for \"t h\" pattern in 2 consecutive lines\n",
    "last = -3\n",
    "ll = \"\"\n",
    "for i, line in enumerate(lines):\n",
    "    if \"t h\" in line:\n",
    "        if(i - last) == 1:\n",
    "            print(ll[:-1], np.char.find(ll, \"t h\"))\n",
    "            print(line[:-1], np.char.find(line, \"t h\"))\n",
    "            print()\n",
    "        last = i\n",
    "        ll = line"
   ]
  },
  {
   "cell_type": "markdown",
   "metadata": {},
   "source": [
    "# Znajdywanie 2-wymiarowego wzorca w tekście"
   ]
  },
  {
   "cell_type": "code",
   "execution_count": 6,
   "metadata": {},
   "outputs": [
    {
     "name": "stdout",
     "output_type": "stream",
     "text": [
      "t h a t if inflected forms are considered. In French, inflected forms produce more\n",
      "t h a n 700,000 words. T h e representation of lexicons of this size makes the\n",
      "\n",
      "\n"
     ]
    },
    {
     "data": {
      "text/plain": [
       "1"
      ]
     },
     "execution_count": 6,
     "metadata": {},
     "output_type": "execute_result"
    }
   ],
   "source": [
    "def find_text(lines, pattern_list, show_result=True):\n",
    "    \"prints matching lines and returns number of matches\"\n",
    "    \n",
    "    # converting text to np.array\n",
    "    line_size = max(map(lambda x: len(x), lines))\n",
    "    n = len(lines)\n",
    "    text = np.zeros((n,line_size), dtype=np.character)\n",
    "    for i, line in enumerate(lines):\n",
    "        for j in range(len(line)):\n",
    "            text[i, j] = line[j]\n",
    "            \n",
    "    # converting pattern to np.array\n",
    "    pattern = np.zeros((2, len(pattern_list[0])), dtype=np.character)\n",
    "    for i in range(len(pattern_list)):\n",
    "        for j in range(len(pattern_list[0])):\n",
    "            pattern[i, j] = pattern_list[i][j]\n",
    "            \n",
    "    # seraching for pattern\n",
    "    result = RectPatternDetector(pattern).find(text) == len(pattern_list)\n",
    "    \n",
    "    # processing results\n",
    "    h, w = pattern.shape\n",
    "    idx = np.where(np.any(result, axis=1))[0]\n",
    "    if show_result:\n",
    "        for i in idx:\n",
    "            txt = map(lambda x: x.tolist(), list(text[i+1-h:i+1]))\n",
    "            txt = [\"\".join(list(map(lambda x: x.decode(), line))) for line in txt]\n",
    "            print(\"\".join(txt))\n",
    "            print()\n",
    "    return np.sum(result)\n",
    "        \n",
    "find_text(lines, [\"t h\"] * 2)"
   ]
  },
  {
   "cell_type": "code",
   "execution_count": 7,
   "metadata": {},
   "outputs": [
    {
     "data": {
      "text/plain": [
       "0"
      ]
     },
     "execution_count": 7,
     "metadata": {},
     "output_type": "execute_result"
    }
   ],
   "source": [
    "find_text(lines, [\"th\"] * 2)"
   ]
  },
  {
   "cell_type": "code",
   "execution_count": 8,
   "metadata": {},
   "outputs": [
    {
     "name": "stdout",
     "output_type": "stream",
     "text": [
      "who wants all entries related to the n a m e \"Marie-Curie-Sklodowska.\" This is\n",
      "a n example of a p a t t e r n matching problem, or string matching. In this case,\n",
      "\n",
      "\n",
      "a n example of a p a t t e r n matching problem, or string matching. In this case,\n",
      "the n a m e \"Marie-Curie-Sklodowska\" is the p a t t e r n . Generally we m a y want to\n",
      "\n",
      "\n",
      "find a string called a pattern of length m inside a text of length n, where n is\n",
      "greater t h a n m. T h e p a t t e r n can be described in a more complex way to denote\n",
      "\n",
      "\n",
      "a set of strings and not just a single word. In many cases n is very large. In\n",
      "genetics the p a t t e r n can correspond to a gene t h a t can be very long; in image\n",
      "\n",
      "\n",
      "\n",
      "T h e search of words or p a t t e r n s in static texts is quite a different question\n",
      "\n",
      "\n"
     ]
    },
    {
     "data": {
      "text/plain": [
       "5"
      ]
     },
     "execution_count": 8,
     "metadata": {},
     "output_type": "execute_result"
    }
   ],
   "source": [
    "find_text(lines, [\"p a t t e r n\"])"
   ]
  },
  {
   "cell_type": "markdown",
   "metadata": {},
   "source": [
    "### Znajdowanie tych samych liter sąsiadujących w pionie"
   ]
  },
  {
   "cell_type": "code",
   "execution_count": 9,
   "metadata": {},
   "outputs": [
    {
     "name": "stdout",
     "output_type": "stream",
     "text": [
      "Letter: a | count=26\n",
      "count=26\n",
      "\n",
      "----------------------------------------\n",
      "Letter: b | count=0\n",
      "count=0\n",
      "\n",
      "----------------------------------------\n",
      "Letter: c | count=6\n",
      "count=6\n",
      "\n",
      "----------------------------------------\n",
      "Letter: d | count=1\n",
      "count=1\n",
      "\n",
      "----------------------------------------\n",
      "Letter: e | count=46\n",
      "count=46\n",
      "\n",
      "----------------------------------------\n",
      "Letter: f | count=2\n",
      "count=2\n",
      "\n",
      "----------------------------------------\n",
      "Letter: g | count=0\n",
      "count=0\n",
      "\n",
      "----------------------------------------\n",
      "Letter: h | count=4\n",
      "count=4\n",
      "\n",
      "----------------------------------------\n",
      "Letter: i | count=13\n",
      "count=13\n",
      "\n",
      "----------------------------------------\n",
      "Letter: j | count=0\n",
      "count=0\n",
      "\n",
      "----------------------------------------\n",
      "Letter: k | count=0\n",
      "count=0\n",
      "\n",
      "----------------------------------------\n",
      "Letter: l | count=5\n",
      "count=5\n",
      "\n",
      "----------------------------------------\n",
      "Letter: m | count=5\n",
      "count=5\n",
      "\n",
      "----------------------------------------\n",
      "Letter: n | count=15\n",
      "count=15\n",
      "\n",
      "----------------------------------------\n",
      "Letter: o | count=19\n",
      "count=19\n",
      "\n",
      "----------------------------------------\n",
      "Letter: p | count=2\n",
      "count=2\n",
      "\n",
      "----------------------------------------\n",
      "Letter: q | count=0\n",
      "count=0\n",
      "\n",
      "----------------------------------------\n",
      "Letter: r | count=20\n",
      "count=20\n",
      "\n",
      "----------------------------------------\n",
      "Letter: s | count=18\n",
      "count=18\n",
      "\n",
      "----------------------------------------\n",
      "Letter: t | count=38\n",
      "count=38\n",
      "\n",
      "----------------------------------------\n",
      "Letter: u | count=0\n",
      "count=0\n",
      "\n",
      "----------------------------------------\n",
      "Letter: v | count=0\n",
      "count=0\n",
      "\n",
      "----------------------------------------\n",
      "Letter: w | count=2\n",
      "count=2\n",
      "\n",
      "----------------------------------------\n",
      "Letter: x | count=1\n",
      "count=1\n",
      "\n",
      "----------------------------------------\n",
      "Letter: y | count=1\n",
      "count=1\n",
      "\n",
      "----------------------------------------\n",
      "Letter: z | count=0\n",
      "count=0\n",
      "\n",
      "----------------------------------------\n",
      "Letter: A | count=0\n",
      "count=0\n",
      "\n",
      "----------------------------------------\n",
      "Letter: B | count=0\n",
      "count=0\n",
      "\n",
      "----------------------------------------\n",
      "Letter: C | count=0\n",
      "count=0\n",
      "\n",
      "----------------------------------------\n",
      "Letter: D | count=0\n",
      "count=0\n",
      "\n",
      "----------------------------------------\n",
      "Letter: E | count=0\n",
      "count=0\n",
      "\n",
      "----------------------------------------\n",
      "Letter: F | count=0\n",
      "count=0\n",
      "\n",
      "----------------------------------------\n",
      "Letter: G | count=0\n",
      "count=0\n",
      "\n",
      "----------------------------------------\n",
      "Letter: H | count=0\n",
      "count=0\n",
      "\n",
      "----------------------------------------\n",
      "Letter: I | count=0\n",
      "count=0\n",
      "\n",
      "----------------------------------------\n",
      "Letter: J | count=0\n",
      "count=0\n",
      "\n",
      "----------------------------------------\n",
      "Letter: K | count=0\n",
      "count=0\n",
      "\n",
      "----------------------------------------\n",
      "Letter: L | count=0\n",
      "count=0\n",
      "\n",
      "----------------------------------------\n",
      "Letter: M | count=0\n",
      "count=0\n",
      "\n",
      "----------------------------------------\n",
      "Letter: N | count=0\n",
      "count=0\n",
      "\n",
      "----------------------------------------\n",
      "Letter: O | count=0\n",
      "count=0\n",
      "\n",
      "----------------------------------------\n",
      "Letter: P | count=0\n",
      "count=0\n",
      "\n",
      "----------------------------------------\n",
      "Letter: Q | count=0\n",
      "count=0\n",
      "\n",
      "----------------------------------------\n",
      "Letter: R | count=0\n",
      "count=0\n",
      "\n",
      "----------------------------------------\n",
      "Letter: S | count=0\n",
      "count=0\n",
      "\n",
      "----------------------------------------\n",
      "Letter: T | count=0\n",
      "count=0\n",
      "\n",
      "----------------------------------------\n",
      "Letter: U | count=0\n",
      "count=0\n",
      "\n",
      "----------------------------------------\n",
      "Letter: V | count=0\n",
      "count=0\n",
      "\n",
      "----------------------------------------\n",
      "Letter: W | count=0\n",
      "count=0\n",
      "\n",
      "----------------------------------------\n",
      "Letter: X | count=0\n",
      "count=0\n",
      "\n",
      "----------------------------------------\n",
      "Letter: Y | count=0\n",
      "count=0\n",
      "\n",
      "----------------------------------------\n",
      "Letter: Z | count=0\n",
      "count=0\n",
      "\n",
      "----------------------------------------\n"
     ]
    }
   ],
   "source": [
    "for l in ascii_letters:\n",
    "    count = find_text(lines, [l, l], show_result=False)\n",
    "    print(f\"Letter: {l} | count={count}\")\n",
    "    print(f\"count={count}\\n\\n\" + \"-\"*40)"
   ]
  },
  {
   "cell_type": "markdown",
   "metadata": {},
   "source": [
    "# Znajdowanie wzorca w obrazie"
   ]
  },
  {
   "cell_type": "code",
   "execution_count": 10,
   "metadata": {},
   "outputs": [],
   "source": [
    "def find_img(img, pattern, plot=True, margin=0, automaton=None):\n",
    "    \"returns lines with pattern and total count\"\n",
    "    result = RectPatternDetector(pattern, automaton=None).find(img) == pattern.shape[0]\n",
    "    count = np.sum(result)\n",
    "    h, w = pattern.shape\n",
    "    idx = np.where(np.any(result, axis=1))[0]\n",
    "    if plot:\n",
    "        for i in idx:\n",
    "            plt.figure(figsize=(10,2))\n",
    "            j = np.where(result[i,:])[0][0]\n",
    "            plt.imshow(img[i-h:i,j-margin-w:j+margin])\n",
    "            plt.axis('off')\n",
    "            plt.show()\n",
    "    return idx, count"
   ]
  },
  {
   "cell_type": "code",
   "execution_count": 11,
   "metadata": {},
   "outputs": [],
   "source": [
    "img = np.array(Image.open(\"haystack.png\").convert('L'))"
   ]
  },
  {
   "cell_type": "markdown",
   "metadata": {},
   "source": [
    "## poszukiwanie liter 'a', 'r', 'n', 'l',"
   ]
  },
  {
   "cell_type": "code",
   "execution_count": 12,
   "metadata": {},
   "outputs": [],
   "source": [
    "patterns = [(l, np.array(Image.open(f\"{l}.png\").convert('L'))) for l in \"arnl\"]"
   ]
  },
  {
   "cell_type": "code",
   "execution_count": 13,
   "metadata": {},
   "outputs": [
    {
     "name": "stdout",
     "output_type": "stream",
     "text": [
      "letter 'a' was matched 397 times (out of 397)\n",
      "letter 'r' was matched 335 times (out of 339)\n",
      "letter 'n' was matched 331 times (out of 339)\n",
      "letter 'l' was matched 173 times (out of 175)\n"
     ]
    }
   ],
   "source": [
    "for letter, pattern in patterns:\n",
    "    _, count = find_img(img, pattern, plot=False)\n",
    "    txt_count = len(list(filter(lambda x: x==letter, \"\".join(lines))))\n",
    "    print(f\"letter '{letter}' was matched {count} times (out of {txt_count})\")"
   ]
  },
  {
   "cell_type": "code",
   "execution_count": 14,
   "metadata": {},
   "outputs": [
    {
     "data": {
      "image/png": "[encoded data removed]",
      "text/plain": [
       "<Figure size 720x144 with 1 Axes>"
      ]
     },
     "metadata": {
      "needs_background": "light"
     },
     "output_type": "display_data"
    },
    {
     "data": {
      "image/png": "[encoded data removed]",
      "text/plain": [
       "<Figure size 720x144 with 1 Axes>"
      ]
     },
     "metadata": {
      "needs_background": "light"
     },
     "output_type": "display_data"
    },
    {
     "data": {
      "image/png": "[encoded data removed]",
      "text/plain": [
       "<Figure size 720x144 with 1 Axes>"
      ]
     },
     "metadata": {
      "needs_background": "light"
     },
     "output_type": "display_data"
    },
    {
     "data": {
      "image/png": "[encoded data removed]",
      "text/plain": [
       "<Figure size 720x144 with 1 Axes>"
      ]
     },
     "metadata": {
      "needs_background": "light"
     },
     "output_type": "display_data"
    },
    {
     "data": {
      "image/png": "[encoded data removed]",
      "text/plain": [
       "<Figure size 720x144 with 1 Axes>"
      ]
     },
     "metadata": {
      "needs_background": "light"
     },
     "output_type": "display_data"
    },
    {
     "data": {
      "text/plain": [
       "5"
      ]
     },
     "execution_count": 14,
     "metadata": {},
     "output_type": "execute_result"
    }
   ],
   "source": [
    "pattern = np.array(Image.open(\"pattern.png\").convert('L'))\n",
    "_, count = find_img(img, pattern, plot=True, margin=100)\n",
    "count"
   ]
  },
  {
   "cell_type": "markdown",
   "metadata": {},
   "source": [
    "# Porównanie czasu działania dla różnych wielkości wzorca"
   ]
  },
  {
   "cell_type": "code",
   "execution_count": 15,
   "metadata": {},
   "outputs": [],
   "source": [
    "pattern.shape\n",
    "automaton = dfa([pattern[i,:] for i in range(pattern.shape[0])])"
   ]
  },
  {
   "cell_type": "code",
   "execution_count": 16,
   "metadata": {},
   "outputs": [
    {
     "name": "stdout",
     "output_type": "stream",
     "text": [
      "14.9 ms ± 1.91 ms per loop (mean ± std. dev. of 7 runs, 100 loops each)\n"
     ]
    }
   ],
   "source": [
    "%%timeit\n",
    "dfa([pattern[i,:] for i in range(pattern.shape[0])])"
   ]
  },
  {
   "cell_type": "code",
   "execution_count": 17,
   "metadata": {},
   "outputs": [
    {
     "name": "stdout",
     "output_type": "stream",
     "text": [
      "2.02 s ± 45.8 ms per loop (mean ± std. dev. of 7 runs, 1 loop each)\n"
     ]
    }
   ],
   "source": [
    "%%timeit\n",
    "find_img(img, pattern, plot=False, automaton=automaton)"
   ]
  },
  {
   "cell_type": "code",
   "execution_count": null,
   "metadata": {},
   "outputs": [],
   "source": []
  },
  {
   "cell_type": "code",
   "execution_count": 18,
   "metadata": {},
   "outputs": [],
   "source": [
    "patterns[0][1].shape\n",
    "automaton = dfa([patterns[0][1][i,:] for i in range(patterns[0][1].shape[0])])"
   ]
  },
  {
   "cell_type": "code",
   "execution_count": 19,
   "metadata": {},
   "outputs": [
    {
     "name": "stdout",
     "output_type": "stream",
     "text": [
      "5.08 ms ± 282 µs per loop (mean ± std. dev. of 7 runs, 100 loops each)\n"
     ]
    }
   ],
   "source": [
    "%%timeit\n",
    "dfa([patterns[0][1][i,:] for i in range(patterns[0][1].shape[0])])"
   ]
  },
  {
   "cell_type": "code",
   "execution_count": 20,
   "metadata": {},
   "outputs": [
    {
     "name": "stdout",
     "output_type": "stream",
     "text": [
      "2.01 s ± 52.1 ms per loop (mean ± std. dev. of 7 runs, 1 loop each)\n"
     ]
    }
   ],
   "source": [
    "%%timeit\n",
    "find_img(img, pattern, plot=False, automaton=automaton)"
   ]
  },
  {
   "cell_type": "code",
   "execution_count": null,
   "metadata": {},
   "outputs": [],
   "source": []
  },
  {
   "cell_type": "code",
   "execution_count": 21,
   "metadata": {},
   "outputs": [],
   "source": [
    "big_pattern = np.random.randint(0, 255, (150,150))\n",
    "automaton = dfa([big_pattern[i,:] for i in range(big_pattern.shape[0])])"
   ]
  },
  {
   "cell_type": "code",
   "execution_count": 22,
   "metadata": {},
   "outputs": [
    {
     "name": "stdout",
     "output_type": "stream",
     "text": [
      "10 s ± 216 ms per loop (mean ± std. dev. of 7 runs, 1 loop each)\n"
     ]
    }
   ],
   "source": [
    "%%timeit\n",
    "dfa([big_pattern[i,:] for i in range(big_pattern.shape[0])])"
   ]
  },
  {
   "cell_type": "code",
   "execution_count": 23,
   "metadata": {},
   "outputs": [
    {
     "name": "stdout",
     "output_type": "stream",
     "text": [
      "2.4 s ± 380 ms per loop (mean ± std. dev. of 7 runs, 1 loop each)\n"
     ]
    }
   ],
   "source": [
    "%%timeit\n",
    "find_img(img, pattern, plot=False, automaton=automaton)"
   ]
  },
  {
   "cell_type": "code",
   "execution_count": null,
   "metadata": {},
   "outputs": [],
   "source": []
  },
  {
   "cell_type": "markdown",
   "metadata": {},
   "source": [
    "# Porównanie czasu działania dla podzielonego obrazu"
   ]
  },
  {
   "cell_type": "markdown",
   "metadata": {},
   "source": [
    "W podzielonym obrazie potencjalnie tracimy wystąpienia wzorca znajdujące się na nowopowstałych krawędziach"
   ]
  },
  {
   "cell_type": "code",
   "execution_count": 24,
   "metadata": {},
   "outputs": [],
   "source": [
    "def fragment(img, n):\n",
    "    part = (img.shape[0] + 1) // n\n",
    "    return [img[i*part:(i+1)*part] for i in range(n)]\n",
    "    \n",
    "automaton = dfa([patterns[0][1][i,:] for i in range(patterns[0][1].shape[0])])\n",
    "fragments = fragment(img, 2)"
   ]
  },
  {
   "cell_type": "code",
   "execution_count": 25,
   "metadata": {},
   "outputs": [
    {
     "name": "stdout",
     "output_type": "stream",
     "text": [
      "2.57 s ± 485 ms per loop (mean ± std. dev. of 7 runs, 1 loop each)\n"
     ]
    }
   ],
   "source": [
    "%%timeit\n",
    "for fragment in fragments:\n",
    "    find_img(fragment, pattern, plot=False, automaton=automaton)"
   ]
  },
  {
   "cell_type": "code",
   "execution_count": 26,
   "metadata": {},
   "outputs": [],
   "source": [
    "fragments = fragment(img, 4)"
   ]
  },
  {
   "cell_type": "code",
   "execution_count": 27,
   "metadata": {},
   "outputs": [
    {
     "name": "stdout",
     "output_type": "stream",
     "text": [
      "2.41 s ± 279 ms per loop (mean ± std. dev. of 7 runs, 1 loop each)\n"
     ]
    }
   ],
   "source": [
    "%%timeit\n",
    "for fragment in fragments:\n",
    "    find_img(fragment, pattern, plot=False, automaton=automaton)"
   ]
  },
  {
   "cell_type": "code",
   "execution_count": 28,
   "metadata": {},
   "outputs": [],
   "source": [
    "fragments = fragment(img, 8)"
   ]
  },
  {
   "cell_type": "code",
   "execution_count": 29,
   "metadata": {},
   "outputs": [
    {
     "name": "stdout",
     "output_type": "stream",
     "text": [
      "2.57 s ± 561 ms per loop (mean ± std. dev. of 7 runs, 1 loop each)\n"
     ]
    }
   ],
   "source": [
    "%%timeit\n",
    "for fragment in fragments:\n",
    "    find_img(fragment, pattern, plot=False, automaton=automaton)"
   ]
  },
  {
   "cell_type": "code",
   "execution_count": null,
   "metadata": {},
   "outputs": [],
   "source": []
  }
 ],
 "metadata": {
  "kernelspec": {
   "display_name": "Python 3",
   "language": "python",
   "name": "python3"
  },
  "language_info": {
   "codemirror_mode": {
    "name": "ipython",
    "version": 3
   },
   "file_extension": ".py",
   "mimetype": "text/x-python",
   "name": "python",
   "nbconvert_exporter": "python",
   "pygments_lexer": "ipython3",
   "version": "3.6.9"
  }
 },
 "nbformat": 4,
 "nbformat_minor": 4
}

{
 "cells": [
  {
   "cell_type": "code",
   "execution_count": 1,
   "metadata": {},
   "outputs": [],
   "source": [
    "import matplotlib.pyplot as plt\n",
    "from time import time\n",
    "from collections import defaultdict\n",
    "from random import choice, randint"
   ]
  },
  {
   "cell_type": "markdown",
   "metadata": {},
   "source": [
    "# Naive search"
   ]
  },
  {
   "cell_type": "code",
   "execution_count": 2,
   "metadata": {},
   "outputs": [],
   "source": [
    "def naive_search(text, pattern):\n",
    "    p = len(pattern)\n",
    "    found = []\n",
    "    for i in range(len(text) - p + 1):\n",
    "        if pattern == text[i:i+p]:\n",
    "            found.append(i)\n",
    "    return found"
   ]
  },
  {
   "cell_type": "code",
   "execution_count": 3,
   "metadata": {},
   "outputs": [
    {
     "data": {
      "text/plain": [
       "[0, 4, 6]"
      ]
     },
     "execution_count": 3,
     "metadata": {},
     "output_type": "execute_result"
    }
   ],
   "source": [
    "naive_search(\"abacababa\", \"aba\")"
   ]
  },
  {
   "cell_type": "markdown",
   "metadata": {},
   "source": [
    "# Finite-state machine"
   ]
  },
  {
   "cell_type": "code",
   "execution_count": 4,
   "metadata": {},
   "outputs": [],
   "source": [
    "def finite_machine(text, table):\n",
    "    q = 0\n",
    "    found = []\n",
    "    for i, l in enumerate(text):\n",
    "        q = table[q][l]\n",
    "        if(q==len(table)-1):\n",
    "            found.append(i-len(table)+2)\n",
    "    return found"
   ]
  },
  {
   "cell_type": "code",
   "execution_count": 5,
   "metadata": {},
   "outputs": [],
   "source": [
    "def transition_table(pattern):\n",
    "    table = [defaultdict(lambda: 0) for l in pattern  + \" \"]\n",
    "    alphabet = set(list(pattern))\n",
    "    for i, p in enumerate(pattern + \" \"):\n",
    "        for letter in alphabet:\n",
    "            k = i\n",
    "            while k>=0:\n",
    "                if pattern[0:k+1]==pattern[i-k:i] + letter:\n",
    "                    table[i][letter] = k + 1\n",
    "                    break\n",
    "                k -= 1\n",
    "    return table"
   ]
  },
  {
   "cell_type": "code",
   "execution_count": 6,
   "metadata": {},
   "outputs": [
    {
     "data": {
      "text/plain": [
       "[0, 4, 6]"
      ]
     },
     "execution_count": 6,
     "metadata": {},
     "output_type": "execute_result"
    }
   ],
   "source": [
    "table = transition_table(\"aba\")\n",
    "finite_machine(\"abacababa\", table)"
   ]
  },
  {
   "cell_type": "markdown",
   "metadata": {},
   "source": [
    "# Knuth–Morris–Pratt algorithm"
   ]
  },
  {
   "cell_type": "code",
   "execution_count": 7,
   "metadata": {},
   "outputs": [],
   "source": [
    "def match_table(pattern):\n",
    "    table = [0]\n",
    "    k = 0\n",
    "    for q in range(1, len(pattern)):\n",
    "        while(k > 0 and pattern[k] != pattern[q]):\n",
    "            k = table[k-1]\n",
    "        if(pattern[k] == pattern[q]):\n",
    "            k = k + 1\n",
    "        table.append(k)\n",
    "    return table"
   ]
  },
  {
   "cell_type": "code",
   "execution_count": 8,
   "metadata": {},
   "outputs": [],
   "source": [
    "def knp(text, pattern, table=None):\n",
    "    if not table:\n",
    "        table = match_table(pattern)\n",
    "    q =  0\n",
    "    found = []\n",
    "    for i, l in enumerate(text):\n",
    "        if pattern[q] == l:\n",
    "            q += 1\n",
    "        else:\n",
    "            q = table[q-1]\n",
    "        if q==len(pattern):\n",
    "            found.append(i-q+1)\n",
    "            q = table[q-1]\n",
    "    return found"
   ]
  },
  {
   "cell_type": "code",
   "execution_count": 9,
   "metadata": {},
   "outputs": [
    {
     "name": "stdout",
     "output_type": "stream",
     "text": [
      "[0, 4, 6]\n"
     ]
    }
   ],
   "source": [
    "print(knp(\"abacababa\", \"aba\"))"
   ]
  },
  {
   "cell_type": "markdown",
   "metadata": {},
   "source": [
    "# Running time comparison"
   ]
  },
  {
   "cell_type": "code",
   "execution_count": 53,
   "metadata": {},
   "outputs": [],
   "source": [
    "many_letters = False\n",
    "if many_letters:\n",
    "    letters = \"a b c d e f g h i j k l\".split()\n",
    "    texts = [\"\".join([choice(letters) for i in range(1000000)]) for i in range(3)]\n",
    "    patterns = [\"\".join([choice(letters) for i in range(randint(20,100))]) for i in range(6)]\n",
    "else:\n",
    "    texts = [\"a\" * 100000]\n",
    "    patterns = [\"a\" * 10000]"
   ]
  },
  {
   "cell_type": "code",
   "execution_count": 54,
   "metadata": {},
   "outputs": [
    {
     "name": "stdout",
     "output_type": "stream",
     "text": [
      "61.4 ms ± 1.14 ms per loop (mean ± std. dev. of 7 runs, 10 loops each)\n"
     ]
    }
   ],
   "source": [
    "%%timeit\n",
    "for text in texts:\n",
    "    for pattern in patterns:\n",
    "        naive_search(text, pattern)"
   ]
  },
  {
   "cell_type": "code",
   "execution_count": 55,
   "metadata": {},
   "outputs": [
    {
     "name": "stdout",
     "output_type": "stream",
     "text": [
      "48.8 ms ± 11.3 ms per loop (mean ± std. dev. of 7 runs, 10 loops each)\n"
     ]
    }
   ],
   "source": [
    "%%timeit\n",
    "for text in texts:\n",
    "    for pattern in patterns:\n",
    "        table = transition_table(pattern)\n",
    "        finite_machine(text, table)\n",
    "        "
   ]
  },
  {
   "cell_type": "code",
   "execution_count": 56,
   "metadata": {},
   "outputs": [
    {
     "name": "stdout",
     "output_type": "stream",
     "text": [
      "37.6 ms ± 10.3 ms per loop (mean ± std. dev. of 7 runs, 10 loops each)\n"
     ]
    }
   ],
   "source": [
    "%%timeit\n",
    "for text in texts:\n",
    "    for pattern in patterns:\n",
    "        knp(text, pattern)"
   ]
  },
  {
   "cell_type": "markdown",
   "metadata": {},
   "source": [
    "# Searching for \"art\" "
   ]
  },
  {
   "cell_type": "code",
   "execution_count": 57,
   "metadata": {},
   "outputs": [
    {
     "data": {
      "text/plain": [
       "[]"
      ]
     },
     "execution_count": 57,
     "metadata": {},
     "output_type": "execute_result"
    }
   ],
   "source": [
    "# checking that all algorithms give the same answer\n",
    "table_machine = transition_table(\"art\")\n",
    "table_knp = match_table(\"art\")\n",
    "wrong = []\n",
    "\n",
    "with open(\"ustawa.txt\", 'r') as file:\n",
    "    for i, line in enumerate(file):\n",
    "        res_naive = naive_search(line, \"art\")\n",
    "        res_auto = finite_machine(line, table_machine)\n",
    "        res_knp = knp(line, \"art\", table_knp)\n",
    "        if res_auto != res_naive or res_auto!=res_knp:\n",
    "            wrong.append((res_auto, res_naive, res_knp))\n",
    "wrong"
   ]
  },
  {
   "cell_type": "code",
   "execution_count": 64,
   "metadata": {},
   "outputs": [
    {
     "name": "stdout",
     "output_type": "stream",
     "text": [
      "30.8 ms ± 2.76 ms per loop (mean ± std. dev. of 7 runs, 10 loops each)\n"
     ]
    }
   ],
   "source": [
    "%%timeit\n",
    "with open(\"ustawa.txt\", 'r') as file:\n",
    "    for i, line in enumerate(file):\n",
    "        naive_search(line, \"art\")"
   ]
  },
  {
   "cell_type": "code",
   "execution_count": 65,
   "metadata": {},
   "outputs": [
    {
     "name": "stdout",
     "output_type": "stream",
     "text": [
      "47.1 ms ± 12.6 ms per loop (mean ± std. dev. of 7 runs, 10 loops each)\n"
     ]
    }
   ],
   "source": [
    "%%timeit\n",
    "table_machine = transition_table(\"art\")\n",
    "with open(\"ustawa.txt\", 'r') as file:\n",
    "    for i, line in enumerate(file):\n",
    "        finite_machine(line, table_machine)"
   ]
  },
  {
   "cell_type": "code",
   "execution_count": 66,
   "metadata": {},
   "outputs": [
    {
     "name": "stdout",
     "output_type": "stream",
     "text": [
      "36.4 ms ± 975 µs per loop (mean ± std. dev. of 7 runs, 10 loops each)\n"
     ]
    }
   ],
   "source": [
    "%%timeit\n",
    "table_knp = match_table(\"art\")\n",
    "with open(\"ustawa.txt\", 'r') as file:\n",
    "    for i, line in enumerate(file):\n",
    "        knp(line, \"art\", table_knp)"
   ]
  },
  {
   "cell_type": "markdown",
   "metadata": {},
   "source": [
    "# Wikipedia search"
   ]
  },
  {
   "cell_type": "code",
   "execution_count": 83,
   "metadata": {},
   "outputs": [],
   "source": [
    "from time import time"
   ]
  },
  {
   "cell_type": "code",
   "execution_count": 84,
   "metadata": {},
   "outputs": [
    {
     "name": "stdout",
     "output_type": "stream",
     "text": [
      "5000000 lines searched...\n",
      "10000000 lines searched...\n",
      "15000000 lines searched...\n",
      "20000000 lines searched...\n",
      "25000000 lines searched...\n",
      "30000000 lines searched...\n",
      "35000000 lines searched...\n",
      "40000000 lines searched...\n",
      "45000000 lines searched...\n",
      "50000000 lines searched...\n",
      "Aborting serach\n",
      "Search interrupted | time=188.3610577583313\n"
     ]
    }
   ],
   "source": [
    "t = time()\n",
    "\n",
    "with open(\"wiki.txt\", 'r', buffering=1000000000) as file:\n",
    "    for i, line in enumerate(file):\n",
    "        res = naive_search(line, \"kruszwil\")\n",
    "        if res:\n",
    "            print(f\"FOUND!!! | line {i} | {res}\")\n",
    "        if (i+1)%5000000 == 0:\n",
    "            print(f\"{i+1} lines searched...\")\n",
    "        if (i+1)%50000000 == 0:\n",
    "            print(\"Aborting serach\")\n",
    "            break\n",
    "            \n",
    "print(f\"Search interrupted | time={time()-t}\")"
   ]
  },
  {
   "cell_type": "code",
   "execution_count": 85,
   "metadata": {},
   "outputs": [
    {
     "name": "stdout",
     "output_type": "stream",
     "text": [
      "5000000 lines searched...\n",
      "10000000 lines searched...\n",
      "15000000 lines searched...\n",
      "20000000 lines searched...\n",
      "25000000 lines searched...\n",
      "30000000 lines searched...\n",
      "35000000 lines searched...\n",
      "40000000 lines searched...\n",
      "45000000 lines searched...\n",
      "50000000 lines searched...\n",
      "Aborting serach\n",
      "Search interrupted | time=222.89380359649658\n"
     ]
    }
   ],
   "source": [
    "t = time()\n",
    "\n",
    "table = transition_table(\"kruszwil\")\n",
    "with open(\"wiki.txt\", 'r', buffering=1000000000) as file:\n",
    "    for i, line in enumerate(file):\n",
    "        res = finite_machine(line, table)\n",
    "        if res:\n",
    "            print(f\"FOUND!!! | line {i} | {res}\")\n",
    "        if (i+1)%5000000 == 0:\n",
    "            print(f\"{i+1} lines searched...\")\n",
    "        if (i+1)%50000000 == 0:\n",
    "            print(\"Aborting serach\")\n",
    "            break\n",
    "            \n",
    "print(f\"Search interrupted | time={time()-t}\")"
   ]
  },
  {
   "cell_type": "code",
   "execution_count": 87,
   "metadata": {},
   "outputs": [
    {
     "name": "stdout",
     "output_type": "stream",
     "text": [
      "5000000 lines searched...\n",
      "10000000 lines searched...\n",
      "15000000 lines searched...\n",
      "20000000 lines searched...\n",
      "25000000 lines searched...\n",
      "30000000 lines searched...\n",
      "35000000 lines searched...\n",
      "40000000 lines searched...\n",
      "45000000 lines searched...\n",
      "50000000 lines searched...\n",
      "Aborting serach\n",
      "Search interrupted | time=367.3501453399658\n"
     ]
    }
   ],
   "source": [
    "t = time()\n",
    "\n",
    "table = match_table(\"kruszwil\")\n",
    "with open(\"wiki.txt\", 'r', buffering=1000000000) as file:\n",
    "    for i, line in enumerate(file):\n",
    "        res = knp(line, table)\n",
    "        if res:\n",
    "            print(f\"FOUND!!! | line {i} | {res}\")\n",
    "        if (i+1)%5000000 == 0:\n",
    "            print(f\"{i+1} lines searched...\")\n",
    "        if (i+1)%50000000 == 0:\n",
    "            print(\"Aborting serach\")\n",
    "            break\n",
    "            \n",
    "print(f\"Search interrupted | time={time()-t}\")"
   ]
  },
  {
   "cell_type": "markdown",
   "metadata": {},
   "source": [
    "# Worst case for naive algorithm"
   ]
  },
  {
   "cell_type": "code",
   "execution_count": 69,
   "metadata": {},
   "outputs": [],
   "source": [
    "text = \"a\"*int(1e6)\n",
    "pattern = \"a\"*int(1e5)"
   ]
  },
  {
   "cell_type": "code",
   "execution_count": 70,
   "metadata": {},
   "outputs": [
    {
     "name": "stdout",
     "output_type": "stream",
     "text": [
      "5.95 s ± 0 ns per loop (mean ± std. dev. of 1 run, 1 loop each)\n"
     ]
    }
   ],
   "source": [
    "%%timeit -r1 -n1\n",
    "naive_search(text, pattern)"
   ]
  },
  {
   "cell_type": "code",
   "execution_count": 71,
   "metadata": {},
   "outputs": [
    {
     "name": "stdout",
     "output_type": "stream",
     "text": [
      "917 ms ± 13.6 ms per loop (mean ± std. dev. of 4 runs, 1 loop each)\n"
     ]
    }
   ],
   "source": [
    "%%timeit -r4 -n1\n",
    "table = transition_table(pattern)\n",
    "finite_machine(text, table)"
   ]
  },
  {
   "cell_type": "code",
   "execution_count": 72,
   "metadata": {},
   "outputs": [
    {
     "name": "stdout",
     "output_type": "stream",
     "text": [
      "447 ms ± 117 ms per loop (mean ± std. dev. of 4 runs, 1 loop each)\n"
     ]
    }
   ],
   "source": [
    "%%timeit -r4 -n1\n",
    "knp(text, pattern)"
   ]
  },
  {
   "cell_type": "markdown",
   "metadata": {},
   "source": [
    "# Transition tables"
   ]
  },
  {
   "cell_type": "code",
   "execution_count": 76,
   "metadata": {},
   "outputs": [],
   "source": [
    "pattern = \"qwertyuiopasdfghjklzxcvbnm1234567890\""
   ]
  },
  {
   "cell_type": "code",
   "execution_count": 77,
   "metadata": {},
   "outputs": [
    {
     "name": "stdout",
     "output_type": "stream",
     "text": [
      "8.17 ms ± 2.41 ms per loop (mean ± std. dev. of 7 runs, 100 loops each)\n"
     ]
    }
   ],
   "source": [
    "%%timeit\n",
    "transition_table(pattern) # finite-state machine"
   ]
  },
  {
   "cell_type": "code",
   "execution_count": 78,
   "metadata": {},
   "outputs": [
    {
     "name": "stdout",
     "output_type": "stream",
     "text": [
      "5.81 µs ± 1.63 µs per loop (mean ± std. dev. of 7 runs, 100000 loops each)\n"
     ]
    }
   ],
   "source": [
    "%%timeit\n",
    "match_table(pattern) # kmp"
   ]
  },
  {
   "cell_type": "code",
   "execution_count": null,
   "metadata": {},
   "outputs": [],
   "source": []
  },
  {
   "cell_type": "code",
   "execution_count": null,
   "metadata": {},
   "outputs": [],
   "source": []
  },
  {
   "cell_type": "code",
   "execution_count": 296,
   "metadata": {},
   "outputs": [],
   "source": [
    "def check_time(function):\n",
    "    t = time()\n",
    "    function()\n",
    "    return time()-t"
   ]
  },
  {
   "cell_type": "code",
   "execution_count": 301,
   "metadata": {},
   "outputs": [
    {
     "name": "stderr",
     "output_type": "stream",
     "text": [
      "100%|██████████| 5/5 [01:54<00:00, 22.80s/it]\n"
     ]
    },
    {
     "data": {
      "image/png": "[encoded data removed]",
      "text/plain": [
       "<Figure size 432x288 with 1 Axes>"
      ]
     },
     "metadata": {},
     "output_type": "display_data"
    }
   ],
   "source": [
    "from tqdm import tqdm\n",
    "import numpy as np\n",
    "pattern = \"a\"*int(1e5)\n",
    "naive = []\n",
    "auto = []\n",
    "knuthmp = []\n",
    "lengths = [int(1e3), int(1e4), int(1e5), int(1e6), int(1e7)]\n",
    "for l in tqdm(lengths):\n",
    "    text = \"a\"*int(l)\n",
    "    naive.append(check_time(lambda: naive_search(text, pattern)))\n",
    "    def auto_f():\n",
    "        table = transition_table(pattern)\n",
    "        finite_machine(text, table)\n",
    "    auto.append(check_time(lambda: auto_f()))\n",
    "    knuthmp.append(check_time(lambda: knp(text, pattern)))\n",
    "\n",
    "lengths = np.log10(lengths)\n",
    "plt.plot(lengths, naive, label=\"naive\")\n",
    "plt.plot(lengths, auto, label=\"auto\")\n",
    "plt.plot(lengths, knuthmp, label=\"knp\")\n",
    "plt.legend()\n",
    "plt.show()"
   ]
  },
  {
   "cell_type": "code",
   "execution_count": null,
   "metadata": {},
   "outputs": [],
   "source": []
  }
 ],
 "metadata": {
  "kernelspec": {
   "display_name": "Python 3",
   "language": "python",
   "name": "python3"
  },
  "language_info": {
   "codemirror_mode": {
    "name": "ipython",
    "version": 3
   },
   "file_extension": ".py",
   "mimetype": "text/x-python",
   "name": "python",
   "nbconvert_exporter": "python",
   "pygments_lexer": "ipython3",
   "version": "3.6.9"
  }
 },
 "nbformat": 4,
 "nbformat_minor": 2
}

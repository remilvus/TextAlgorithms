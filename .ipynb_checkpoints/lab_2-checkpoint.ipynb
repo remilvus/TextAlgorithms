{
 "cells": [
  {
   "cell_type": "code",
   "execution_count": 1,
   "metadata": {},
   "outputs": [],
   "source": [
    "from tqdm import tqdm\n",
    "import numpy as np"
   ]
  },
  {
   "cell_type": "markdown",
   "metadata": {},
   "source": [
    "# Przygotowanie danych"
   ]
  },
  {
   "cell_type": "code",
   "execution_count": 2,
   "metadata": {},
   "outputs": [
    {
     "data": {
      "text/plain": [
       "['bbb$', 'aabbabd$', 'ababcd$', 'abcbccd$']"
      ]
     },
     "execution_count": 2,
     "metadata": {},
     "output_type": "execute_result"
    }
   ],
   "source": [
    "inputs = [\"bbb$\", \"aabbabd\", \"ababcd\", \"abcbccd\"]\n",
    "inputs = [string if string[-1]==\"$\" else string+\"$\" for string in inputs]\n",
    "inputs"
   ]
  },
  {
   "cell_type": "code",
   "execution_count": 3,
   "metadata": {},
   "outputs": [],
   "source": [
    "with open(\"1997_714.txt\", \"r\") as file:\n",
    "    filestring = file.read()\n",
    "    if filestring[-1] != \"$\":\n",
    "        filestring += \"$\"\n",
    "    inputs.append(filestring)"
   ]
  },
  {
   "cell_type": "markdown",
   "metadata": {},
   "source": [
    "# Trie"
   ]
  },
  {
   "cell_type": "code",
   "execution_count": 4,
   "metadata": {},
   "outputs": [],
   "source": [
    "class trie_node():\n",
    "    def __init__(self, label, parent=None, link=None):\n",
    "        if parent:\n",
    "            depth = parent.depth + 1\n",
    "        else:\n",
    "            depth = 0\n",
    "        self.children = {}\n",
    "        self.label = label\n",
    "        self.depth = depth\n",
    "        self.parent = parent\n",
    "        if parent:\n",
    "            parent.add_kid(self)\n",
    "        self.link = link\n",
    "        \n",
    "    def add_kid(self, kid):\n",
    "        self.children[kid.label] = kid\n",
    "\n",
    "class suffix_trie():\n",
    "    def __init__(self, text):\n",
    "        self.root = trie_node(\"\")\n",
    "        parent = self.root\n",
    "        for letter in text:\n",
    "            parent = trie_node(letter, parent=parent) \n",
    "        self.leafs = [parent]\n",
    "            \n",
    "    def find(self, suffix, leaf=None):\n",
    "        head = self.root\n",
    "        for letter in suffix:\n",
    "            try:\n",
    "                head = head.children[letter]\n",
    "            except KeyError:\n",
    "                break\n",
    "        return head\n",
    "            \n",
    "    def graft(self, head, suffix):\n",
    "        parent = head\n",
    "        for letter in suffix:\n",
    "             parent = trie_node(letter, parent=parent) \n",
    "        self.leafs.append(parent)\n",
    "        \n",
    "    def leaf_suffix(self, leaf):\n",
    "        letters = []\n",
    "        while leaf.label != \"\":\n",
    "            letters.append(leaf.label)\n",
    "            leaf = leaf.parent\n",
    "        return \"\".join(letters[::-1])\n",
    "    \n",
    "    def child(self, letter):\n",
    "        return self.children[letter]\n",
    "    \n",
    "    def write(self):\n",
    "        for leaf in self.leafs:\n",
    "            print(self.leaf_suffix(leaf).__repr__())"
   ]
  },
  {
   "cell_type": "code",
   "execution_count": 5,
   "metadata": {},
   "outputs": [],
   "source": [
    "def build_trie(text):\n",
    "    trie=suffix_trie(text) # creating initial trie\n",
    "    leaf=trie.leafs[0]\n",
    "    for i in range(1,len(text)):\n",
    "        suffix=text[i:]\n",
    "        head=trie.find(suffix,leaf)\n",
    "        suffix_end=suffix[head.depth:]\n",
    "        leaf=trie.graft(head, suffix_end)\n",
    "    return trie"
   ]
  },
  {
   "cell_type": "code",
   "execution_count": 6,
   "metadata": {},
   "outputs": [
    {
     "name": "stdout",
     "output_type": "stream",
     "text": [
      "suffixes for input: 'bbb$'\n",
      "'bbb$'\n",
      "'bb$'\n",
      "'b$'\n",
      "'$'\n",
      "\n",
      "suffixes for input: 'aabbabd$'\n",
      "'aabbabd$'\n",
      "'abbabd$'\n",
      "'bbabd$'\n",
      "'babd$'\n",
      "'abd$'\n",
      "'bd$'\n",
      "'d$'\n",
      "'$'\n",
      "\n",
      "suffixes for input: 'ababcd$'\n",
      "'ababcd$'\n",
      "'babcd$'\n",
      "'abcd$'\n",
      "'bcd$'\n",
      "'cd$'\n",
      "'d$'\n",
      "'$'\n",
      "\n",
      "suffixes for input: 'abcbccd$'\n",
      "'abcbccd$'\n",
      "'bcbccd$'\n",
      "'cbccd$'\n",
      "'bccd$'\n",
      "'ccd$'\n",
      "'cd$'\n",
      "'d$'\n",
      "'$'\n",
      "\n"
     ]
    }
   ],
   "source": [
    "for string in inputs[:-1]:\n",
    "    print(f\"suffixes for input: '{string}'\")\n",
    "    build_trie(string).write()\n",
    "    print()\n",
    "    \n",
    "#tree = build_tree(inputs[-1][-4000:])"
   ]
  },
  {
   "cell_type": "markdown",
   "metadata": {},
   "source": [
    "Trie jest konstruowane poprawnie (na krótkich przykłądach jest to widoczne). Dla długiego tekstu ilość wymaganej pamięci jest zbyt duża, aby można było zbudować trie (tekst długości kilku tysięcy znaków zajmuje jako trie kilka gb)."
   ]
  },
  {
   "cell_type": "markdown",
   "metadata": {},
   "source": [
    "# Algorytm McCreighta"
   ]
  },
  {
   "cell_type": "code",
   "execution_count": 7,
   "metadata": {},
   "outputs": [],
   "source": [
    "class suffix_node():\n",
    "    def __init__(self, start, parent=None, text=None):\n",
    "        if parent:\n",
    "            self.depth = parent.depth + len(parent.text) - start # number of letters in suffix up to this point (includes first letter of this node\n",
    "            self.text = parent.text\n",
    "            self.size = len(parent.text) - start\n",
    "            self.parent=parent\n",
    "        else:\n",
    "            # root\n",
    "            assert text is not None, \"initialize with parent or text\"\n",
    "            self.text = text\n",
    "            depth = 0\n",
    "            self.depth = 0\n",
    "            self.size = 0\n",
    "            self.parent = self\n",
    "        self.children = {}\n",
    "        self.start = start # label start\n",
    "        assert  parent is None or self.label()[-1]==\"$\"\n",
    "        self.link = None\n",
    "        if parent:\n",
    "            if parent.text[self.start] not in parent.children.keys():\n",
    "                parent.add_kid(self)\n",
    "                assert self.label()[-1]==\"$\"\n",
    "            else:\n",
    "                parent.break_path(self)\n",
    "                assert self.label()[-1]!=\"$\"\n",
    "                \n",
    "    def show_info(self):\n",
    "        print(f\"start:{self.start}|depth:{self.depth}|size:{self.size}\")\n",
    "        \n",
    "    def add_kid(self, new_kid):\n",
    "        assert self.text[new_kid.start] not in self.children.keys()\n",
    "        self.children[self.text[new_kid.start]] = new_kid\n",
    "        return new_kid\n",
    "    \n",
    "    def break_path(self, new_kid):\n",
    "        old_kid = self.children[self.text[new_kid.start]]\n",
    "        self.children[self.text[new_kid.start]] = new_kid\n",
    "        old_kid.parent = new_kid\n",
    "        equal_part = 0\n",
    "        for i in range(min(new_kid.size, old_kid.size)):\n",
    "            if self.text[new_kid.start + i] == self.text[old_kid.start + i]:\n",
    "                equal_part += 1\n",
    "            else:\n",
    "                break\n",
    "        new_kid.start = old_kid.start\n",
    "        old_kid.start += equal_part\n",
    "        old_kid.size -= equal_part\n",
    "        new_kid.size = equal_part\n",
    "        new_kid.depth = self.depth + equal_part\n",
    "        new_kid.children[self.text[old_kid.start]] = old_kid\n",
    "        assert old_kid.size > 0\n",
    "            \n",
    "    def suffix(self):\n",
    "        suff_start = self.start + self.size - self.depth\n",
    "        suff_end = self.start + self.size\n",
    "        return self.text[suff_start: suff_end]\n",
    "    \n",
    "    def label(self):\n",
    "        return self.text[self.start:self.start+self.size]\n",
    "    \n",
    "    def slow_find(self,label, start, matched=0):\n",
    "        try:\n",
    "            child = self.children[label[0]]\n",
    "        except KeyError:\n",
    "            return self, matched\n",
    "        for i in range(1, child.size):\n",
    "            if(child.text[child.start + i]!=label[i]):\n",
    "                #print(f\"slow_start = {start+i}\")\n",
    "                return suffix_node(start, parent=self), matched+i # break path\n",
    "        return child.slow_find(label[child.size:], start+child.size, matched=matched+child.size)\n",
    "        \n",
    "    def fast_find(self,label, start):\n",
    "        child = self.children[label[0]]\n",
    "        if len(label)>child.size:\n",
    "            return child.fast_find(label[child.size:], start+child.size)\n",
    "        elif len(label)==child.size:\n",
    "            return child\n",
    "        else:\n",
    "            return suffix_node(start, parent=self)  # break path\n",
    "\n",
    "class suffix_tree():\n",
    "    def __init__(self, text):\n",
    "        self.root = suffix_node(start=0, text=text)\n",
    "        parent = self.root\n",
    "        self.leafs = [suffix_node(start=0, parent=parent)]\n",
    "            \n",
    "    def graft(self, node, suffix, sibling=None):\n",
    "        if node in self.leafs:\n",
    "            self.leafs.remove(node)\n",
    "        start = len(node.text) - len(suffix)\n",
    "        leaf = suffix_node(start, parent=node)\n",
    "        if node==self.root:\n",
    "            leaf.suffix_start=start\n",
    "        self.leafs.append(leaf)\n",
    "        return leaf\n",
    "    \n",
    "    def write(self):\n",
    "        print(\"LEAFS\")\n",
    "        for leaf in self.leafs:\n",
    "            print(leaf.suffix().__repr__())\n",
    "        print(\"\\nALL NODES:\")\n",
    "        self.write_children(self.root) \n",
    "        \n",
    "    def contains(self, string):\n",
    "        if(string[-1]!=\"$\"):\n",
    "            string += \"$\"\n",
    "        node = self.root\n",
    "        while string:\n",
    "            try:\n",
    "                node = node.children[string[0]]\n",
    "            except KeyError:\n",
    "                return False\n",
    "            if node.label() == string[:node.size]:\n",
    "                string = string[node.size:]\n",
    "            else:\n",
    "                return False\n",
    "        return True\n",
    "        \n",
    "    @staticmethod\n",
    "    def write_children(node):\n",
    "        print()\n",
    "        for k, v in node.children.items():\n",
    "            print(f\"st{v.start}|siz{v.size}|d{v.depth}|{v.label().__repr__()}\")\n",
    "        for k, v in node.children.items():\n",
    "            suffix_tree.write_children(v)"
   ]
  },
  {
   "cell_type": "code",
   "execution_count": 8,
   "metadata": {},
   "outputs": [
    {
     "name": "stderr",
     "output_type": "stream",
     "text": [
      "100%|██████████| 246472/246472 [07:53<00:00, 520.28it/s]\n"
     ]
    }
   ],
   "source": [
    "def mc_creight(text, slow=False, use_tqdm=True):\n",
    "    tree = suffix_tree(text)\n",
    "    last_head = head = tree.root #tree.leafs[0]\n",
    "    node=tree.root\n",
    "    leaf=tree.leafs[0]\n",
    "    text_length=len(text)\n",
    "    standard = 0\n",
    "    iterator = range(1,text_length)\n",
    "    if use_tqdm:\n",
    "        iterator = tqdm(iterator, position=0) \n",
    "    for i in iterator:\n",
    "        suffix=text[i:]\n",
    "       # print(f\"SUFFIX >{suffix}<\")\n",
    "        if len(suffix)<=leaf.size or slow:\n",
    "            # nie ma czego linkować\n",
    "            head, matched = tree.root.slow_find(suffix, i)\n",
    "            leaf = tree.graft(head, suffix[matched:])\n",
    "            assert leaf.label()[-1]==\"$\"\n",
    "            last_head = head\n",
    "        elif(len(suffix)<=leaf.size+head.size or not head.parent.link):\n",
    "            # można linkować, ale trzeba wiedzieć do czego\n",
    "            head, matched = tree.root.slow_find(suffix, i)\n",
    "            last_leaf_size = leaf.size\n",
    "            leaf = tree.graft(head, suffix[matched:])\n",
    "            assert leaf.label()[-1]==\"$\"\n",
    "            if last_leaf_size==leaf.size:\n",
    "                last_head.link = head\n",
    "            else:\n",
    "                pass # break path\n",
    "          #  last_head.link = head # do czego linkowac?????\n",
    "            last_head = head\n",
    "        else:\n",
    "            # standardowa procedura\n",
    "            standard+=1\n",
    "            leaf_label=leaf.label()\n",
    "            assert leaf.label()[-1]==\"$\"\n",
    "            head_label=head.label()\n",
    "            node = head.parent.link\n",
    "            try:\n",
    "                node = node.fast_find(head_label, i + node.depth)\n",
    "            except KeyError:\n",
    "                print(suffix[:20].__repr__())\n",
    "                head.show_info()\n",
    "                node.show_info()\n",
    "                return tree\n",
    "            if(len(node.children)==0):\n",
    "                head = node\n",
    "            else:\n",
    "                head, matched = node.slow_find(leaf_label, i + len(suffix) - len(leaf_label))\n",
    "\n",
    "            leaf=tree.graft(head, leaf_label[matched:])\n",
    "            last_head.link = node\n",
    "            last_head = head\n",
    "        tree.standard = standard\n",
    "    return tree\n",
    "\n",
    "text = inputs[-1]\n",
    "tree = mc_creight(text)"
   ]
  },
  {
   "cell_type": "markdown",
   "metadata": {},
   "source": [
    "## sprawdzenie poprawności drzewa suffiksów"
   ]
  },
  {
   "cell_type": "code",
   "execution_count": 9,
   "metadata": {},
   "outputs": [],
   "source": [
    "for i in range(len(inputs[-1])): # poprawność ustawy\n",
    "    assert tree.contains(inputs[-1][i:]), \"suffix tree is not complete\""
   ]
  },
  {
   "cell_type": "code",
   "execution_count": 10,
   "metadata": {},
   "outputs": [
    {
     "name": "stdout",
     "output_type": "stream",
     "text": [
      "'bbb$'\n",
      "testing...\n",
      "'aabbabd$'\n",
      "testing...\n",
      "'ababcd$'\n",
      "testing...\n",
      "'abcbccd$'\n",
      "testing...\n"
     ]
    }
   ],
   "source": [
    "for string in inputs[:-1]: # poprawność reszty danych wejściowych\n",
    "    print(string[:10].__repr__())\n",
    "    tree = mc_creight(string, use_tqdm=False)\n",
    "    print(\"testing...\")\n",
    "    for i in range(len(string)):\n",
    "        assert tree.contains(string[i:]), \"suffix tree is not complete\""
   ]
  },
  {
   "cell_type": "markdown",
   "metadata": {},
   "source": [
    "# test czasów wykonania"
   ]
  },
  {
   "cell_type": "markdown",
   "metadata": {},
   "source": [
    "## testy na krótkich danych"
   ]
  },
  {
   "cell_type": "markdown",
   "metadata": {},
   "source": [
    "#### trie"
   ]
  },
  {
   "cell_type": "code",
   "execution_count": 11,
   "metadata": {},
   "outputs": [
    {
     "name": "stdout",
     "output_type": "stream",
     "text": [
      "117 µs ± 2.75 µs per loop (mean ± std. dev. of 7 runs, 1000 loops each)\n"
     ]
    }
   ],
   "source": [
    "%%timeit\n",
    "for string in inputs[:-1]:\n",
    "    build_trie(string)"
   ]
  },
  {
   "cell_type": "markdown",
   "metadata": {},
   "source": [
    "#### algorytm McCreighta bez linków i fast find"
   ]
  },
  {
   "cell_type": "code",
   "execution_count": 12,
   "metadata": {},
   "outputs": [
    {
     "name": "stdout",
     "output_type": "stream",
     "text": [
      "213 µs ± 39.8 µs per loop (mean ± std. dev. of 7 runs, 10000 loops each)\n"
     ]
    }
   ],
   "source": [
    "%%timeit\n",
    "for string in inputs[:-1]:\n",
    "    mc_creight(string, slow=True, use_tqdm=False)"
   ]
  },
  {
   "cell_type": "markdown",
   "metadata": {},
   "source": [
    "#### algorytm McCreighta bez ograniczeń"
   ]
  },
  {
   "cell_type": "code",
   "execution_count": 13,
   "metadata": {},
   "outputs": [
    {
     "name": "stdout",
     "output_type": "stream",
     "text": [
      "276 µs ± 15.2 µs per loop (mean ± std. dev. of 7 runs, 1000 loops each)\n"
     ]
    }
   ],
   "source": [
    "%%timeit\n",
    "for string in inputs[:-1]:\n",
    "    mc_creight(string, use_tqdm=False)"
   ]
  },
  {
   "cell_type": "markdown",
   "metadata": {},
   "source": [
    "Na krótkich przykładach najszybsze jest trie, chociaż róznica nie jest duża. Algorytm McCreighta na tych danych wykonuje dodatkową pracę, która nie ma okazji stać się użyteczną przez długość tekstów."
   ]
  },
  {
   "cell_type": "markdown",
   "metadata": {},
   "source": [
    "## test na ustawie"
   ]
  },
  {
   "cell_type": "markdown",
   "metadata": {},
   "source": [
    "#### trie"
   ]
  },
  {
   "cell_type": "code",
   "execution_count": 14,
   "metadata": {},
   "outputs": [
    {
     "name": "stdout",
     "output_type": "stream",
     "text": [
      "2.47 s ± 486 ms per loop (mean ± std. dev. of 7 runs, 1 loop each)\n"
     ]
    }
   ],
   "source": [
    "%%timeit\n",
    "build_trie(inputs[-1][-2000:])"
   ]
  },
  {
   "cell_type": "markdown",
   "metadata": {},
   "source": [
    "#### algorytm McCreighta bez linków i fast find"
   ]
  },
  {
   "cell_type": "code",
   "execution_count": 19,
   "metadata": {},
   "outputs": [
    {
     "name": "stdout",
     "output_type": "stream",
     "text": [
      "52.9 ms ± 13.7 ms per loop (mean ± std. dev. of 7 runs, 10 loops each)\n"
     ]
    }
   ],
   "source": [
    "%%timeit\n",
    "mc_creight(inputs[-1][-2000:], slow=True, use_tqdm=False)"
   ]
  },
  {
   "cell_type": "markdown",
   "metadata": {},
   "source": [
    "#### algorytm McCreighta bez ograniczeń"
   ]
  },
  {
   "cell_type": "code",
   "execution_count": 20,
   "metadata": {},
   "outputs": [
    {
     "name": "stdout",
     "output_type": "stream",
     "text": [
      "40.8 ms ± 5.88 ms per loop (mean ± std. dev. of 7 runs, 10 loops each)\n"
     ]
    }
   ],
   "source": [
    "%%timeit\n",
    "mc_creight(inputs[-1][-2000:], use_tqdm=False)"
   ]
  },
  {
   "cell_type": "markdown",
   "metadata": {},
   "source": [
    "Przy dłuższych tekstach różnica w wymaganych przez algorytmy zasobach jest bardzo znacząca. Test na części tekstu ustawy pokazuje, że algorytm McCreighta jest około 50x szybszy. Różnica między algorytmem McCreighta z i bez linków jest widoczna, ale nie tak bardzo znacząca.  \n",
    "Ważniejszą różnicą niż czas wykonania wydaje się być ilość wymaganej przez algorytmy pamięci. Zbudowanie trie z całego tekstu ustawy na moim sprzęcie okazało się niemożliwe - zabrakło pamięci (dostępne było około 8GB). Z kolei algorytm McCreighta poradził sobie bez większych problemów (zgodnie z oczekiwaniami)."
   ]
  },
  {
   "cell_type": "code",
   "execution_count": null,
   "metadata": {},
   "outputs": [],
   "source": []
  }
 ],
 "metadata": {
  "kernelspec": {
   "display_name": "Python 3",
   "language": "python",
   "name": "python3"
  },
  "language_info": {
   "codemirror_mode": {
    "name": "ipython",
    "version": 3
   },
   "file_extension": ".py",
   "mimetype": "text/x-python",
   "name": "python",
   "nbconvert_exporter": "python",
   "pygments_lexer": "ipython3",
   "version": "3.6.9"
  }
 },
 "nbformat": 4,
 "nbformat_minor": 2
}

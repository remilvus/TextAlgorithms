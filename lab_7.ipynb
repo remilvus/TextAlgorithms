{
 "cells": [
  {
   "cell_type": "code",
   "execution_count": 5,
   "metadata": {},
   "outputs": [],
   "source": [
    "from collections import defaultdict, deque\n",
    "from random import choice, randint\n",
    "from string import ascii_letters, digits, whitespace"
   ]
  },
  {
   "cell_type": "markdown",
   "metadata": {},
   "source": [
    "Rozwiązanie wykorzystuje niedeterministyczny automat skończony, którego stany przeszukiwane są algorytmem DFS."
   ]
  },
  {
   "cell_type": "code",
   "execution_count": 25,
   "metadata": {},
   "outputs": [],
   "source": [
    "class FA():\n",
    "    def __init__(self, pattern):\n",
    "        self.pattern = self.preprocess(pattern) # represents pattern as list of lists, characters and sets\n",
    "        self.build_table(self.pattern)\n",
    "    \n",
    "    def build_table(self, pattern):\n",
    "        \"builds transition table\"\n",
    "        self.table = [defaultdict(lambda: set())]\n",
    "        iterators = deque() # iterators change when contents of `()` `[]` are being processed\n",
    "        modifiers = deque() # ?+*\n",
    "        current_iter = iter(pattern)\n",
    "        \n",
    "        i = 0\n",
    "        while True:\n",
    "            try:\n",
    "                element = next(current_iter)\n",
    "            except StopIteration:\n",
    "                if len(iterators) == 0:\n",
    "                    break\n",
    "                else:\n",
    "                    current_iter = iterators.pop()\n",
    "                    \n",
    "                modifier, first = modifiers.pop()\n",
    "                last = i - 1\n",
    "                if modifier == \"+\":\n",
    "                    for key in self.table[first].keys():\n",
    "                        self.table[last][key].add(first + 1)\n",
    "                        self.table[last][key].add(last + 1)\n",
    "                        if last == first: # add loop\n",
    "                            self.table[last][key].add(first)\n",
    "                elif modifier == \"?\":\n",
    "                    # adding skipping\n",
    "                    if first > 0:\n",
    "                        for key in self.table[first - 1].keys():\n",
    "                            self.table[first - 1][key].add(last + 1)\n",
    "                    else:\n",
    "                        self.table[0]['skip'].add(i)\n",
    "                else: # modifier == \"*\"\n",
    "                    for key in self.table[first].keys():\n",
    "                        self.table[last][key].add(first + 1)\n",
    "                        self.table[last][key].add(last + 1)\n",
    "                        if last == first: # add loop\n",
    "                            self.table[last][key].add(first)\n",
    "                    # adding skipping\n",
    "                    if first > 0:\n",
    "                        for key in self.table[first - 1].keys():\n",
    "                            self.table[first - 1][key].add(last + 1)\n",
    "                    else:\n",
    "                        self.table[0]['skip'].add(i)\n",
    "                continue\n",
    "                    \n",
    "            if type(element) == list:\n",
    "                iterators.append(current_iter)\n",
    "                current_iter = iter(element)\n",
    "            elif type(element) == set:\n",
    "                for letter in element:\n",
    "                    self.table[i][letter].add(i + 1)\n",
    "                i += 1\n",
    "                self.table.append(defaultdict(lambda: set()))\n",
    "            elif element in \"?+*\":\n",
    "                modifiers.append((element, i))\n",
    "            else: # normal character\n",
    "                self.table[i][element].add(i + 1)\n",
    "                i += 1\n",
    "                self.table.append(defaultdict(lambda: set()))\n",
    "                \n",
    "    def find(self, text):\n",
    "        \"finds pattern in text - every result is in form (beggining of the pattern, end of pattern)\"\n",
    "        start = -1\n",
    "        state = 0\n",
    "        matches = []\n",
    "        stack = deque()\n",
    "        stack.append((0, 0)) # (letter index, state)\n",
    "\n",
    "        while True:\n",
    "            idx, state = stack.pop()\n",
    "            \n",
    "            if state == len(self.table) - 1:\n",
    "                end = matches[-1][-1]\n",
    "                end = max(end, idx - 1)\n",
    "                matches[-1][-1] = end\n",
    "                if len(stack) == 0:\n",
    "                    start = -1  \n",
    "                 #   stack.append((idx, 0)) - for finding only not overlaping occurences of patterns\n",
    "                    stack.append((matches[-1][0] + 1, 0)) # for finding all occurences of pattern\n",
    "            else:\n",
    "                if idx < len(text):\n",
    "                    letter = text[idx]\n",
    "                else:\n",
    "                    break\n",
    "                if start == -1: # state = 0\n",
    "                    states = self.table[state][letter]\n",
    "                    if states:\n",
    "                        start = idx\n",
    "                        matches.append([start, -1])\n",
    "                        for next_state in states:\n",
    "                            stack.append((idx + 1, next_state))\n",
    "                    if 'skip' in self.table[state].keys():\n",
    "                        next_state =  self.table[state]['skip']\n",
    "                        stack.append((idx + 1, next_state))\n",
    "                        start = idx\n",
    "                        matches.append([start, -1])\n",
    "                else:\n",
    "                    states = self.table[state][letter]\n",
    "                    for next_state in states:\n",
    "                        stack.append((idx + 1, next_state))\n",
    "                \n",
    "            if len(stack) == 0:\n",
    "                start = -1  \n",
    "                if matches and matches[-1][-1] == -1:\n",
    "                    matches.pop()    \n",
    "                stack.append((idx + 1, 0))\n",
    "                            \n",
    "        if matches and matches[-1][-1] == -1:\n",
    "            matches.pop()\n",
    "        return matches\n",
    "    \n",
    "    @staticmethod\n",
    "    def preprocess(pattern):\n",
    "        \"changes representation of pattern from string to nested lists\"\n",
    "        divided_pattern = []\n",
    "        stack = deque()\n",
    "        i = 0\n",
    "        while i < len(pattern):\n",
    "            letter = pattern[i]\n",
    "            if letter in \"?*+\":\n",
    "                if len(stack) == 0:\n",
    "                    tmp = divided_pattern[-1]\n",
    "                    if type(tmp) != list: tmp = [tmp]\n",
    "                    divided_pattern[-1] = letter\n",
    "                    divided_pattern.append(tmp)\n",
    "                else:\n",
    "                    tmp = stack.pop()\n",
    "                    if type(tmp) != list: tmp = [tmp]\n",
    "                    stack.append(letter)\n",
    "                    stack.append(tmp)\n",
    "            elif letter in '([':\n",
    "                stack.append(letter)\n",
    "            elif letter == ')':\n",
    "                letter = stack.pop()\n",
    "                letters = []\n",
    "                while letter != '(':\n",
    "                    letters.append(letter)\n",
    "                    letter = stack.pop()\n",
    "                letters.reverse()\n",
    "                if i < len(pattern) - 1 and pattern[i+1] in \"?*+\": # letters make block\n",
    "                    if len(stack) == 0:\n",
    "                        divided_pattern.append(letters)\n",
    "                    else:\n",
    "                        stack.append(letters)\n",
    "                else: # unimportant block\n",
    "                    if len(stack) == 0:\n",
    "                        divided_pattern += letters\n",
    "                    else:\n",
    "                        for l in letters:\n",
    "                            stack.append(l)\n",
    "            elif letter == ']':\n",
    "                letter = stack.pop()\n",
    "                letters = []\n",
    "                while letter != '[':\n",
    "                    letters.append(letter)\n",
    "                    letter = stack.pop()\n",
    "                if letters:\n",
    "                    if len(stack) == 0:\n",
    "                        divided_pattern.append(set(letters))\n",
    "                    else:\n",
    "                        stack.append(set(letters))\n",
    "            elif letter == '\\\\':\n",
    "                i += 1\n",
    "                letter = pattern[i]\n",
    "                appendto = stack\n",
    "                if len(stack) == 0:\n",
    "                    appendto = divided_pattern\n",
    "                if letter == 'd':\n",
    "                    appendto.append(set(digits))\n",
    "                elif letter == 'w':\n",
    "                    appendto.append(set(ascii_letters + digits + \"_\"))\n",
    "                elif letter == 's':\n",
    "                    appendto.append(set(whitespace))\n",
    "            else:\n",
    "                if len(stack)==0:\n",
    "                    divided_pattern.append(letter)\n",
    "                else:\n",
    "                    stack.append(letter)\n",
    "            i += 1\n",
    "            \n",
    "        return divided_pattern"
   ]
  },
  {
   "cell_type": "markdown",
   "metadata": {},
   "source": [
    "# Przykłady działania"
   ]
  },
  {
   "cell_type": "markdown",
   "metadata": {},
   "source": [
    "Rezultatem jest lista krotek - każda z nich zawiera indeksy początku i końca znalezionego wzorca."
   ]
  },
  {
   "cell_type": "code",
   "execution_count": 10,
   "metadata": {},
   "outputs": [],
   "source": [
    "def test(pattern, texts):\n",
    "    automaton = FA(pattern)\n",
    "    for text in texts:\n",
    "        dots = \"\"\n",
    "        if len(text) > 10:\n",
    "            dots = \"...\"\n",
    "        print(f\"{text[:10]}{dots} | Result: {automaton.find(text)}\")"
   ]
  },
  {
   "cell_type": "markdown",
   "metadata": {},
   "source": [
    "## Nawiasy \\[\\]"
   ]
  },
  {
   "cell_type": "code",
   "execution_count": 11,
   "metadata": {},
   "outputs": [
    {
     "name": "stdout",
     "output_type": "stream",
     "text": [
      "qaaqqqq | Result: [[1, 3]]\n",
      "abqa | Result: [[0, 2]]\n",
      "aabc | Result: []\n",
      "aq | Result: []\n",
      "aaqabq | Result: [[0, 2], [3, 5]]\n"
     ]
    }
   ],
   "source": [
    "test(\"a[abc]q\", [\"qaaqqqq\", \"abqa\", \"aabc\", \"aq\", \"aaqabq\"])"
   ]
  },
  {
   "cell_type": "code",
   "execution_count": 12,
   "metadata": {},
   "outputs": [
    {
     "name": "stdout",
     "output_type": "stream",
     "text": [
      "abcdeabcde | Result: [[0, 0], [1, 1], [2, 2], [3, 3], [5, 5], [6, 6], [7, 7], [8, 8]]\n"
     ]
    }
   ],
   "source": [
    "test(\"[abcd]\", [\"abcdeabcde\"])"
   ]
  },
  {
   "cell_type": "markdown",
   "metadata": {},
   "source": [
    "## Modyfikatory + ? *"
   ]
  },
  {
   "cell_type": "code",
   "execution_count": 13,
   "metadata": {},
   "outputs": [
    {
     "name": "stdout",
     "output_type": "stream",
     "text": [
      "aaaaaaa | Result: [[0, 6]]\n"
     ]
    }
   ],
   "source": [
    "test(\"aa*a\", [\"aaaaaaa\"])"
   ]
  },
  {
   "cell_type": "code",
   "execution_count": 14,
   "metadata": {},
   "outputs": [
    {
     "name": "stdout",
     "output_type": "stream",
     "text": [
      "abcdd | Result: [[0, 4]]\n",
      "abbbccacdd... | Result: [[6, 15]]\n"
     ]
    }
   ],
   "source": [
    "test(\"ab*cd*d\", [\"abcdd\", \"abbbcc\" + \"acdddddddd\"])"
   ]
  },
  {
   "cell_type": "code",
   "execution_count": 15,
   "metadata": {},
   "outputs": [
    {
     "name": "stdout",
     "output_type": "stream",
     "text": [
      "bbacq | Result: []\n",
      "qqabbbc | Result: [[2, 6]]\n"
     ]
    }
   ],
   "source": [
    "test(\"ab+c\", [\"bbacq\", \"qq\" + \"abbbc\"])"
   ]
  },
  {
   "cell_type": "code",
   "execution_count": 16,
   "metadata": {},
   "outputs": [
    {
     "name": "stdout",
     "output_type": "stream",
     "text": [
      "acabc abbc | Result: [[0, 1], [2, 4]]\n"
     ]
    }
   ],
   "source": [
    "test(\"ab?c\", [\"ac\" + \"abc \" + \"abbc\"])"
   ]
  },
  {
   "cell_type": "code",
   "execution_count": 17,
   "metadata": {},
   "outputs": [
    {
     "name": "stdout",
     "output_type": "stream",
     "text": [
      "acabcdcabc... | Result: [[2, 6]]\n"
     ]
    }
   ],
   "source": [
    "test(\"a(bcd)+c\", [\"ac\" + \"abcdc\" + \"abcdbcdc\"])"
   ]
  },
  {
   "cell_type": "markdown",
   "metadata": {},
   "source": [
    "## Grupy znaków \\d \\s \\w"
   ]
  },
  {
   "cell_type": "code",
   "execution_count": 18,
   "metadata": {},
   "outputs": [
    {
     "name": "stdout",
     "output_type": "stream",
     "text": [
      "3q \tqr | Result: [[0, 5]]\n",
      "0q\t\tqs | Result: [[0, 5]]\n"
     ]
    }
   ],
   "source": [
    "test(\"\\dq\\s\\sq\\w\", [\"3q \\tqr\", \"0q\\t\\tqs\"])"
   ]
  },
  {
   "cell_type": "markdown",
   "metadata": {},
   "source": [
    "## Różne"
   ]
  },
  {
   "cell_type": "code",
   "execution_count": 29,
   "metadata": {},
   "outputs": [
    {
     "name": "stdout",
     "output_type": "stream",
     "text": [
      "accabaaaaa... | Result: [[0, 9], [5, 14]]\n"
     ]
    }
   ],
   "source": [
    "test(\"[ac]+b[ad]*\", [\"accabaaaaabdaad\"])"
   ]
  },
  {
   "cell_type": "code",
   "execution_count": 19,
   "metadata": {},
   "outputs": [
    {
     "name": "stdout",
     "output_type": "stream",
     "text": [
      "aaedeb | Result: [[0, 5]]\n",
      "eeaaedebaa... | Result: [[2, 7], [8, 13]]\n",
      "eeaaedebaa... | Result: [[2, 7], [8, 16]]\n"
     ]
    }
   ],
   "source": [
    "test(\"aa?[cde]+b\", [\"aaedeb\", \"ee\" + \"aaedeb\" + \"aaedeb\", \n",
    "                    \"ee\" + \"aaedeb\" + \"aaededddb\" + \"aaa\"])"
   ]
  },
  {
   "cell_type": "code",
   "execution_count": 20,
   "metadata": {},
   "outputs": [
    {
     "name": "stdout",
     "output_type": "stream",
     "text": [
      "abbabbbcde | Result: [[0, 2], [3, 5]]\n",
      "bbabdbee | Result: [[2, 5]]\n",
      "abcb | Result: [[0, 3]]\n",
      "abcbabebab... | Result: [[0, 3], [8, 8]]\n"
     ]
    }
   ],
   "source": [
    "test(\"a(b[cde]?b)*\", [\"abb\" + \"abbb\" + \"cde\",  \"bb\" + \"abdb\" + \"ee\", \"abcb\",\n",
    "                      \"abcb\" + \"abeb\" + \"abeeb\", ])"
   ]
  },
  {
   "cell_type": "code",
   "execution_count": 21,
   "metadata": {},
   "outputs": [
    {
     "name": "stdout",
     "output_type": "stream",
     "text": [
      "214qq45621... | Result: [[0, 2], [5, 12]]\n"
     ]
    }
   ],
   "source": [
    "test(\"\\d+\", [\"214\" + \"qq\" + \"45621361\"])"
   ]
  },
  {
   "cell_type": "code",
   "execution_count": null,
   "metadata": {},
   "outputs": [],
   "source": []
  }
 ],
 "metadata": {
  "kernelspec": {
   "display_name": "Python 3",
   "language": "python",
   "name": "python3"
  },
  "language_info": {
   "codemirror_mode": {
    "name": "ipython",
    "version": 3
   },
   "file_extension": ".py",
   "mimetype": "text/x-python",
   "name": "python",
   "nbconvert_exporter": "python",
   "pygments_lexer": "ipython3",
   "version": "3.6.9"
  }
 },
 "nbformat": 4,
 "nbformat_minor": 4
}
